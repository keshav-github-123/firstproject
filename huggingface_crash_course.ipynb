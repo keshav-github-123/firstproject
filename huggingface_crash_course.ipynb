{
  "cells": [
    {
      "cell_type": "markdown",
      "metadata": {
        "id": "sHhx5RXpCPJ7"
      },
      "source": [
        "### First lets understand in how many ways you can login to HF"
      ]
    },
    {
      "cell_type": "code",
      "execution_count": null,
      "metadata": {
        "id": "rT4Z1QigBATh"
      },
      "outputs": [],
      "source": [
        "!pip install --upgrade huggingface_hub"
      ]
    },
    {
      "cell_type": "markdown",
      "metadata": {
        "id": "DgP9RtMgDoDE"
      },
      "source": [
        "| 🔢 Method                               | Code / Command                               | Used In                                                                                                                        | Description                                                                                       |\n",
        "| --------------------------------------- | -------------------------------------------- | ------------------------------------------------------------------------------------------------------------------------------ | ------------------------------------------------------------------------------------------------- |\n",
        "| **1**                                   | `!huggingface-cli login`                     | Terminal / Colab / Jupyter (Shell cell)                                                                                      | CLI command. Prompts you to paste your HF token and saves it in global config. Works system-wide. |\n",
        "| **2**                                   | `from huggingface_hub import HfApi`          |                                                                                                                                |                                                                                                   |\n",
        "| `api = HfApi(token=\"YOUR_WRITE_TOKEN\")` | Python Scripts / Automation                | Directly initializes an API object with token (temporary). Useful for scripting, CI/CD, etc. Doesn’t store token globally.     |                                                                                                   |\n",
        "| **3**                                   | `from huggingface_hub import login`          |                                                                                                                                |                                                                                                   |\n",
        "| `login(\"YOUR_TOKEN\")`                   | Python Scripts                             | Programmatic login — stores token in local Hugging Face config (like CLI does). Good alternative to CLI login inside a script. |                                                                                                   |\n",
        "| **4**                                   | `from huggingface_hub import notebook_login` |                                                                                                                                |                                                                                                   |\n",
        "| `notebook_login()`                      | Jupyter / Colab Notebooks                  | Interactive login box inside notebooks. Token is saved in session/local config. Beginner-friendly.                             |                                                                                                   |\n"
      ]
    },
    {
      "cell_type": "code",
      "execution_count": null,
      "metadata": {
        "id": "U_FSjXocH6ho"
      },
      "outputs": [],
      "source": [
        "from google.colab import userdata"
      ]
    },
    {
      "cell_type": "code",
      "execution_count": null,
      "metadata": {
        "id": "QVqX-7AcEsbn"
      },
      "outputs": [],
      "source": [
        "READ_TOKEN=userdata.get(\"HF_TOKEN_READ\")"
      ]
    },
    {
      "cell_type": "code",
      "execution_count": null,
      "metadata": {
        "id": "rv-ygm5KEtE4"
      },
      "outputs": [],
      "source": [
        "WRITE_TOKEN=userdata.get('HF_TOKEN_WRITE')"
      ]
    },
    {
      "cell_type": "code",
      "execution_count": null,
      "metadata": {
        "id": "NSlCig7OFJSa"
      },
      "outputs": [],
      "source": [
        "# import os\n",
        "# os.environ[\"HF_READ_TOKEN\"] = userdata.get(\"HF_READ_TOKEN\")\n",
        "# os.environ[\"HF_WRITE_TOKEN\"] = userdata.get(\"HF_WRITE_TOKEN\")\n"
      ]
    },
    {
      "cell_type": "markdown",
      "metadata": {
        "id": "HrxDW4PaC1oA"
      },
      "source": [
        "#### First is CLI"
      ]
    },
    {
      "cell_type": "code",
      "execution_count": null,
      "metadata": {
        "id": "xchfx-q-COTk"
      },
      "outputs": [],
      "source": [
        "#This command tells Git to save your credentials (username + password or token) permanently in a plain text file on your computer,\n",
        "#so you don’t have to enter them again when pushing/pulling from a remote repo."
      ]
    },
    {
      "cell_type": "code",
      "execution_count": null,
      "metadata": {
        "id": "fRT-OxahBnKR"
      },
      "outputs": [],
      "source": [
        "!huggingface-cli login"
      ]
    },
    {
      "cell_type": "code",
      "execution_count": null,
      "metadata": {
        "id": "cha-eEhSBalv"
      },
      "outputs": [],
      "source": [
        "!huggingface-cli whoami"
      ]
    },
    {
      "cell_type": "markdown",
      "metadata": {
        "id": "4CWEFT2E-dfm"
      },
      "source": [
        "#### for this one you will have to use token with write permission"
      ]
    },
    {
      "cell_type": "code",
      "execution_count": null,
      "metadata": {
        "id": "H8yC2MKFBMMm"
      },
      "outputs": [],
      "source": [
        "!huggingface-cli repo create livehfcourse --repo-type model"
      ]
    },
    {
      "cell_type": "code",
      "execution_count": null,
      "metadata": {
        "id": "qhUgTNSUBPjQ"
      },
      "outputs": [],
      "source": [
        "!huggingface-cli repo create livehfdatacourse --repo-type dataset"
      ]
    },
    {
      "cell_type": "code",
      "execution_count": null,
      "metadata": {
        "id": "70fI4GIUBRyE"
      },
      "outputs": [],
      "source": [
        "!huggingface-cli repo create dummy --repo-type=space --space=docker"
      ]
    },
    {
      "cell_type": "markdown",
      "metadata": {
        "id": "IG1QzB7wC4XT"
      },
      "source": [
        "### Seond Via API"
      ]
    },
    {
      "cell_type": "code",
      "execution_count": null,
      "metadata": {
        "id": "BGcqO_75gEg8"
      },
      "outputs": [],
      "source": [
        "import os\n",
        "from huggingface_hub import HfApi\n",
        "from google.colab import userdata"
      ]
    },
    {
      "cell_type": "code",
      "execution_count": null,
      "metadata": {
        "id": "Kg48JRaqB4No"
      },
      "outputs": [],
      "source": [
        "api = HfApi(token=WRITE_TOKEN)"
      ]
    },
    {
      "cell_type": "code",
      "execution_count": null,
      "metadata": {
        "id": "JDEy8zJGCobI"
      },
      "outputs": [],
      "source": [
        "api.create_repo(\n",
        "    repo_id=\"sunny199/sunnyrepo\",  # full path\n",
        "    repo_type=\"model\",                         # or just skip (default is model)\n",
        "    private=False                              # set True for private repo\n",
        ")"
      ]
    },
    {
      "cell_type": "code",
      "execution_count": null,
      "metadata": {
        "id": "6i9t9XNIgVGS"
      },
      "outputs": [],
      "source": [
        "api.upload_file(\n",
        "    path_or_fileobj=\"/content/testfile/config.json\",\n",
        "    path_in_repo=\"config.json\",  # Where it goes in repo\n",
        "    repo_id=\"sunny199/sunnyrepo\"  # Same as created above\n",
        ")"
      ]
    },
    {
      "cell_type": "markdown",
      "metadata": {
        "id": "Pc2rzKLhDAHi"
      },
      "source": [
        "## Third Via login"
      ]
    },
    {
      "cell_type": "code",
      "execution_count": null,
      "metadata": {
        "id": "820vggVzCGcA"
      },
      "outputs": [],
      "source": [
        "from huggingface_hub import login\n",
        "\n",
        "login(READ_TOKEN)"
      ]
    },
    {
      "cell_type": "code",
      "execution_count": null,
      "metadata": {
        "id": "7KhdNKvZFBTi"
      },
      "outputs": [],
      "source": [
        "from huggingface_hub import login\n",
        "\n",
        "login(WRITE_TOKEN)"
      ]
    },
    {
      "cell_type": "markdown",
      "metadata": {
        "id": "ykp9oBmeEN81"
      },
      "source": [
        "## Notebook login"
      ]
    },
    {
      "cell_type": "code",
      "execution_count": null,
      "metadata": {
        "id": "Xh3kQM7OEPE4"
      },
      "outputs": [],
      "source": [
        "from huggingface_hub import notebook_login\n",
        "notebook_login()"
      ]
    },
    {
      "cell_type": "markdown",
      "metadata": {
        "id": "skmJpk5BE4oT"
      },
      "source": [
        "## Install datasets library"
      ]
    },
    {
      "cell_type": "code",
      "execution_count": null,
      "metadata": {
        "id": "3NJVLSe0IIjC"
      },
      "outputs": [],
      "source": [
        "!pip install -U datasets fsspec"
      ]
    },
    {
      "cell_type": "markdown",
      "metadata": {
        "id": "5x_Yl2kRE84O"
      },
      "source": [
        "## Load the Dataset"
      ]
    },
    {
      "cell_type": "code",
      "execution_count": null,
      "metadata": {
        "id": "9MC1iR2RIwBz"
      },
      "outputs": [],
      "source": [
        "# import shutil\n",
        "# shutil.rmtree(\"/root/.cache/huggingface/datasets\", ignore_errors=True)"
      ]
    },
    {
      "cell_type": "code",
      "execution_count": null,
      "metadata": {
        "id": "Osiwm9aAFWQ8"
      },
      "outputs": [],
      "source": [
        "from datasets import load_dataset"
      ]
    },
    {
      "cell_type": "code",
      "execution_count": null,
      "metadata": {
        "id": "6dW0c9U_PoFL"
      },
      "outputs": [],
      "source": [
        "dataset = load_dataset(\"stanfordnlp/imdb\")  # IMDB movie review dataset"
      ]
    },
    {
      "cell_type": "code",
      "execution_count": null,
      "metadata": {
        "id": "d0jUdVZVPqa2"
      },
      "outputs": [],
      "source": [
        "print(dataset)"
      ]
    },
    {
      "cell_type": "markdown",
      "metadata": {
        "id": "2A22scb7mZLR"
      },
      "source": [
        "| Split       |  Description                                                                   |\n",
        "| -------------- | -------------------------------------------------------------------------------- |\n",
        "| `train`        | 25,000 examples → For training a sentiment classifier                            |\n",
        "| `test`         | 25,000 examples → For evaluating your model                                      |\n",
        "| `unsupervised` | 50,000 examples → No clean label (used for pretraining or self-supervised tasks) |"
      ]
    },
    {
      "cell_type": "code",
      "execution_count": null,
      "metadata": {
        "id": "_4Yp1wdEEuEw"
      },
      "outputs": [],
      "source": [
        "print(dataset[\"train\"])"
      ]
    },
    {
      "cell_type": "code",
      "execution_count": null,
      "metadata": {
        "id": "pJg_NDAHPHj3"
      },
      "outputs": [],
      "source": [
        "print(dataset[\"train\"][0])"
      ]
    },
    {
      "cell_type": "code",
      "execution_count": null,
      "metadata": {
        "id": "9R-JdJpC9vip"
      },
      "outputs": [],
      "source": [
        "print(dataset[\"train\"].features)\n",
        "print(dataset[\"train\"].column_names)\n",
        "print(dataset[\"train\"].features[\"label\"].names)\n",
        "print(dataset[\"train\"].num_rows)\n",
        "print(dataset[\"train\"].num_columns)\n",
        "print(dataset[\"train\"].shape)"
      ]
    },
    {
      "cell_type": "code",
      "execution_count": null,
      "metadata": {
        "id": "8deAIsdBmyDQ"
      },
      "outputs": [],
      "source": [
        "shuffled = dataset[\"train\"].shuffle()"
      ]
    },
    {
      "cell_type": "code",
      "execution_count": null,
      "metadata": {
        "id": "EG-NTwJzPXRQ"
      },
      "outputs": [],
      "source": [
        "shuffled"
      ]
    },
    {
      "cell_type": "code",
      "execution_count": null,
      "metadata": {
        "id": "_CLe-OTBR5uu"
      },
      "outputs": [],
      "source": [
        "shuffled = dataset[\"train\"].shuffle(seed=42)"
      ]
    },
    {
      "cell_type": "code",
      "execution_count": null,
      "metadata": {
        "id": "oczzw0BUPWi5"
      },
      "outputs": [],
      "source": [
        "shuffled\n"
      ]
    },
    {
      "cell_type": "code",
      "execution_count": null,
      "metadata": {
        "id": "t8HyuCwmR9Jj"
      },
      "outputs": [],
      "source": [
        "shuffled.select(range(100))"
      ]
    },
    {
      "cell_type": "code",
      "execution_count": null,
      "metadata": {
        "id": "tj1QUor0RZhS"
      },
      "outputs": [],
      "source": [
        "# Random 5,000 samples from train split\n",
        "subset_train = dataset[\"train\"].shuffle(seed=42).select(range(5000))"
      ]
    },
    {
      "cell_type": "code",
      "execution_count": null,
      "metadata": {
        "id": "r8203O8uRgSo"
      },
      "outputs": [],
      "source": [
        "subset_train"
      ]
    },
    {
      "cell_type": "markdown",
      "metadata": {
        "id": "GJ9r5yi89357"
      },
      "source": [
        "### preprocessing on dataset"
      ]
    },
    {
      "cell_type": "markdown",
      "metadata": {
        "id": "dw8G0nVKQlj2"
      },
      "source": [
        "short_reviews naam ka naya dataset milega (Dataset object), jisme sirf short reviews (under 100 characters) honge."
      ]
    },
    {
      "cell_type": "code",
      "execution_count": null,
      "metadata": {
        "id": "NC9XH5z2nPbj"
      },
      "outputs": [],
      "source": [
        "dataset[\"train\"]"
      ]
    },
    {
      "cell_type": "code",
      "execution_count": null,
      "metadata": {
        "id": "9TZnuDZb9y4t"
      },
      "outputs": [],
      "source": [
        "short_reviews = dataset[\"train\"].filter(lambda x: len(x[\"text\"]) < 100)"
      ]
    },
    {
      "cell_type": "code",
      "execution_count": null,
      "metadata": {
        "id": "EL2C99-9_xfz"
      },
      "outputs": [],
      "source": [
        "short_reviews"
      ]
    },
    {
      "cell_type": "code",
      "execution_count": null,
      "metadata": {
        "id": "QltN11iXRp-K"
      },
      "outputs": [],
      "source": [
        "short_reviews = subset_train.filter(lambda x: len(x[\"text\"]) < 100)"
      ]
    },
    {
      "cell_type": "code",
      "execution_count": null,
      "metadata": {
        "id": "yPKScp7TRvDd"
      },
      "outputs": [],
      "source": [
        "short_reviews"
      ]
    },
    {
      "cell_type": "code",
      "execution_count": null,
      "metadata": {
        "id": "em2uZOQG_thy"
      },
      "outputs": [],
      "source": [
        "short_positive = dataset[\"train\"].filter(lambda x: x[\"label\"] == 1 and len(x[\"text\"]) < 200)"
      ]
    },
    {
      "cell_type": "code",
      "execution_count": null,
      "metadata": {
        "id": "mQhVN1rRQ4EX"
      },
      "outputs": [],
      "source": [
        "short_positive"
      ]
    },
    {
      "cell_type": "code",
      "execution_count": null,
      "metadata": {
        "id": "AXvNsJ4SQ9D3"
      },
      "outputs": [],
      "source": [
        "def add_word_count(example):\n",
        "    example[\"word_count\"] = len(example[\"text\"].split())\n",
        "    return example"
      ]
    },
    {
      "cell_type": "code",
      "execution_count": null,
      "metadata": {
        "id": "zv6P-25I_3Dn"
      },
      "outputs": [],
      "source": [
        "dataset = dataset.map(add_word_count)"
      ]
    },
    {
      "cell_type": "code",
      "execution_count": null,
      "metadata": {
        "id": "Ipuf_NPknvt-"
      },
      "outputs": [],
      "source": [
        "dataset"
      ]
    },
    {
      "cell_type": "code",
      "execution_count": null,
      "metadata": {
        "id": "9GSLRt2KQ-4u"
      },
      "outputs": [],
      "source": [
        "print(dataset[\"train\"][0][\"word_count\"])"
      ]
    },
    {
      "cell_type": "code",
      "execution_count": null,
      "metadata": {
        "id": "s80Xp6zEnzX1"
      },
      "outputs": [],
      "source": [
        "print(dataset[\"train\"][1][\"word_count\"])"
      ]
    },
    {
      "cell_type": "code",
      "execution_count": null,
      "metadata": {
        "id": "uTJXfRKkn5sS"
      },
      "outputs": [],
      "source": [
        "print(dataset[\"train\"][2][\"word_count\"])"
      ]
    },
    {
      "cell_type": "code",
      "execution_count": null,
      "metadata": {
        "id": "npUoEN2C_DDV"
      },
      "outputs": [],
      "source": [
        "split_dataset = dataset[\"train\"].train_test_split(test_size=0.2)"
      ]
    },
    {
      "cell_type": "code",
      "execution_count": null,
      "metadata": {
        "id": "aSLhNxxU_DFs"
      },
      "outputs": [],
      "source": [
        "split_dataset"
      ]
    },
    {
      "cell_type": "markdown",
      "metadata": {
        "id": "ZEGN6vQkFDBr"
      },
      "source": [
        "######openwebtext is a large-scale, internet-based corpus (similar to what GPT-2 was trained on), containing raw text scraped from web pages."
      ]
    },
    {
      "cell_type": "markdown",
      "metadata": {
        "id": "F-HqiKrkFMD2"
      },
      "source": [
        "streaming=True\n",
        "⚠️ Very important!\n",
        "\n",
        "Normally, Hugging Face datasets are downloaded completely to disk before being used (especially for large datasets, this can be slow/heavy).\n",
        "\n",
        "When streaming=True:\n",
        "\n",
        "The dataset is not downloaded in full\n",
        "\n",
        "Data is streamed sample-by-sample on-the-fly\n",
        "\n",
        "Useful for huge datasets that can’t fit into memory (like c4, the_pile, openwebtext)\n",
        "\n",
        "You get a generator-style iterable dataset, not an in-memory list"
      ]
    },
    {
      "cell_type": "code",
      "execution_count": null,
      "metadata": {
        "id": "jJ7IornZoEeT"
      },
      "outputs": [],
      "source": [
        "big_data = load_dataset(\"openwebtext\", streaming=True)"
      ]
    },
    {
      "cell_type": "code",
      "execution_count": null,
      "metadata": {
        "id": "shVfNkJgoPdz"
      },
      "outputs": [],
      "source": [
        "big_data"
      ]
    },
    {
      "cell_type": "markdown",
      "metadata": {
        "id": "hFYb8y2uo1Ju"
      },
      "source": [
        "| Part                  | Meaning                                                 |\n",
        "| --------------------- | ------------------------------------------------------- |\n",
        "| `IterableDatasetDict` | Dictionary-like object with splits (`train`, etc.)      |\n",
        "| `train`               | Only split provided in `openwebtext`                    |\n",
        "| `features: ['text']`  | Each example is a dict: `{\"text\": \"...large block...\"}` |\n",
        "| `num_shards: 21`      | Internally it's chunked into 21 streamable parts        |\n",
        "\n",
        "\n",
        "Dataset: openwebtext\n",
        "\n",
        "Size: ~8.13 million documents\n",
        "\n",
        "Total tokens: ~40+ billion tokens\n",
        "\n",
        "Size on disk: ~38 GB"
      ]
    },
    {
      "cell_type": "code",
      "execution_count": null,
      "metadata": {
        "id": "wXm7yLYyTGdJ"
      },
      "outputs": [],
      "source": [
        "for item in big_data[\"train\"].take(5):\n",
        "    print(item)"
      ]
    },
    {
      "cell_type": "markdown",
      "metadata": {
        "id": "uDtKmde8HBIO"
      },
      "source": [
        "c4 → Colossal Clean Crawled Corpus\n",
        "Full Form:\n",
        "C4 = Colossal Clean Crawled Corpus\n",
        "\n",
        "It was introduced in the T5 paper (Text-to-Text Transfer Transformer) by Google and used as its main pretraining dataset.\n",
        "\n",
        "\"c4\"\tThe dataset ID (web-crawled dataset)\n",
        "\n",
        "\"en\"\tSubset config → English-only version"
      ]
    },
    {
      "cell_type": "code",
      "execution_count": null,
      "metadata": {
        "id": "RUhixGhCTaRf"
      },
      "outputs": [],
      "source": [
        "web_crawled_data = load_dataset(\"c4\", \"en\", split=\"train\", streaming=True)"
      ]
    },
    {
      "cell_type": "code",
      "execution_count": null,
      "metadata": {
        "id": "1c2K29TJTHqC"
      },
      "outputs": [],
      "source": [
        "for i, item in enumerate(web_crawled_data):\n",
        "    print(item)\n",
        "    if i > 4:\n",
        "        break"
      ]
    },
    {
      "cell_type": "markdown",
      "metadata": {
        "id": "hqnjhbMETtV9"
      },
      "source": [
        "Dataset: tweet_eval – Sentiment Classification Task\n",
        "\n",
        "Full Name: TweetEval: Unified Benchmark for Tweet Classification Tasks\n",
        "\n",
        "This dataset comes from the TweetEval paper and includes multiple Twitter-specific NLP tasks."
      ]
    },
    {
      "cell_type": "code",
      "execution_count": null,
      "metadata": {
        "id": "MOSHRPiiT2Ty"
      },
      "outputs": [],
      "source": [
        "# Load Dataset\n",
        "dataset = load_dataset(\"tweet_eval\", \"sentiment\")"
      ]
    },
    {
      "cell_type": "code",
      "execution_count": null,
      "metadata": {
        "id": "VSTPR2IEqasg"
      },
      "outputs": [],
      "source": [
        "dataset"
      ]
    },
    {
      "cell_type": "markdown",
      "metadata": {
        "id": "4i-g6Nv2qhtr"
      },
      "source": [
        "| Part          | Meaning                                    |\n",
        "| ------------- | ------------------------------------------ |\n",
        "| `tweet_eval`  | Dataset collection for Twitter NLP         |\n",
        "| `\"sentiment\"` | Subset task: sentiment classification      |\n",
        "| Labels        | 0 = Negative, 1 = Neutral, 2 = Positive    |\n",
        "| Use case      | Train/test sentiment classifiers on tweets |\n"
      ]
    },
    {
      "cell_type": "code",
      "execution_count": null,
      "metadata": {
        "id": "CBAfeNFCAEoW"
      },
      "outputs": [],
      "source": [
        "import matplotlib.pyplot as plt\n",
        "labels = [example[\"label\"] for example in dataset[\"train\"]]\n",
        "plt.hist(labels, bins=3, edgecolor=\"black\")\n",
        "plt.xticks([0,1,2], [\"Negative\", \"Neutral\", \"Positive\"])\n",
        "plt.title(\"Tweet Sentiment Distribution\")\n",
        "plt.show()"
      ]
    },
    {
      "cell_type": "code",
      "execution_count": null,
      "metadata": {
        "id": "ci8sq8G_qy-h"
      },
      "outputs": [],
      "source": [
        "import matplotlib.pyplot as plt\n",
        "from collections import Counter\n",
        "label_counts = Counter([ex[\"label\"] for ex in dataset[\"train\"]])\n",
        "labels = [\"Negative\", \"Neutral\", \"Positive\"]\n",
        "counts = [label_counts[i] for i in range(3)]"
      ]
    },
    {
      "cell_type": "code",
      "execution_count": null,
      "metadata": {
        "id": "Jai_HuO9q0Hw"
      },
      "outputs": [],
      "source": [
        "counts"
      ]
    },
    {
      "cell_type": "code",
      "execution_count": null,
      "metadata": {
        "id": "8qgNZr7bAJfb"
      },
      "outputs": [],
      "source": [
        "plt.pie(counts, labels=labels, autopct=\"%1.1f%%\", startangle=140)\n",
        "plt.title(\"Sentiment Proportions (Pie Chart)\")\n",
        "plt.axis(\"equal\")\n",
        "plt.show()\n"
      ]
    },
    {
      "cell_type": "code",
      "execution_count": null,
      "metadata": {
        "id": "5AA9fBn4q8Db"
      },
      "outputs": [],
      "source": [
        "from collections import Counter\n",
        "import re\n",
        "all_words = []\n",
        "for i in range(1000):\n",
        "    words = re.findall(r\"\\w+\", dataset[\"train\"][i][\"text\"].lower())\n",
        "    all_words.extend(words)\n",
        "top_words = Counter(all_words).most_common(20)\n",
        "words, counts = zip(*top_words)"
      ]
    },
    {
      "cell_type": "code",
      "execution_count": null,
      "metadata": {
        "id": "fuj-M3z3AMIq"
      },
      "outputs": [],
      "source": [
        "plt.figure(figsize=(10,5))\n",
        "plt.bar(words, counts, color=\"orange\")\n",
        "plt.xticks(rotation=45)\n",
        "plt.title(\"Top 20 Most Common Words in Tweets\")\n",
        "plt.tight_layout()\n",
        "plt.show()"
      ]
    },
    {
      "cell_type": "markdown",
      "metadata": {
        "id": "iaZxvWcfUhVU"
      },
      "source": [
        "What is a Word Cloud?\n",
        "\n",
        "A Word Cloud (a.k.a. text cloud or tag cloud) is a visual representation of text data where more frequent words appear larger and less frequent words appear smaller.\n",
        "\n",
        "It's like a frequency heatmap — but in word form 🌥️\n",
        "\n",
        "| Purpose                                                |  Benefit                                                      |\n",
        "| --------------------------------------------------------- | --------------------------------------------------------------- |\n",
        "| ✅ See most frequent words                                 | Helps you understand what's commonly talked about in a dataset  |\n",
        "| ✅ Spot noise or junk tokens                               | E.g., unnecessary punctuation, stopwords                        |\n",
        "| ✅ Compare two groups (e.g., positive vs negative reviews) | You can generate separate word clouds to understand differences |\n",
        "| ✅ Preprocessing validation                                | Check if text cleaning worked or not                            |\n",
        "| ✅ Topic discovery                                         | Gives a rough sense of what themes are present                  |\n"
      ]
    },
    {
      "cell_type": "code",
      "execution_count": null,
      "metadata": {
        "id": "6jd9BxKirGH2"
      },
      "outputs": [],
      "source": [
        "from wordcloud import WordCloud\n",
        "import matplotlib.pyplot as plt\n",
        "all_text = \" \".join(dataset[\"train\"][i][\"text\"] for i in range(1000))\n",
        "wordcloud = WordCloud(width=800, height=400).generate(all_text)"
      ]
    },
    {
      "cell_type": "code",
      "execution_count": null,
      "metadata": {
        "id": "xQsHML26UoL2"
      },
      "outputs": [],
      "source": [
        "plt.figure(figsize=(10, 5))\n",
        "plt.imshow(wordcloud, interpolation=\"bilinear\")\n",
        "plt.axis(\"off\")\n",
        "plt.title(\"Most Frequent Words in Tweets\")\n",
        "plt.show()"
      ]
    },
    {
      "cell_type": "code",
      "execution_count": null,
      "metadata": {
        "id": "j7ApwWl_ARNY"
      },
      "outputs": [],
      "source": [
        "from wordcloud import WordCloud\n",
        "\n",
        "for label_id, label_name in enumerate([\"Negative\", \"Neutral\", \"Positive\"]):\n",
        "    text = \" \".join(example[\"text\"] for example in dataset[\"train\"] if example[\"label\"] == label_id)\n",
        "    wc = WordCloud(width=800, height=400).generate(text)\n",
        "\n",
        "    plt.figure(figsize=(10, 4))\n",
        "    plt.imshow(wc, interpolation=\"bilinear\")\n",
        "    plt.axis(\"off\")\n",
        "    plt.title(f\"Word Cloud - {label_name} Tweets\")\n",
        "    plt.show()"
      ]
    },
    {
      "cell_type": "markdown",
      "metadata": {
        "id": "HO1IR0UHrRT2"
      },
      "source": [
        "## Custom dataset"
      ]
    },
    {
      "cell_type": "code",
      "execution_count": null,
      "metadata": {
        "id": "bIcsAkjXVRnS"
      },
      "outputs": [],
      "source": [
        "from datasets import Dataset\n",
        "import pandas as pd\n",
        "\n",
        "data = {\n",
        "    \"text\": [\n",
        "        \"I love this product! Works great \",\n",
        "        \"Terrible experience, I want a refund.\",\n",
        "        \"Fast delivery and excellent packaging.\",\n",
        "        \"Worst app I’ve ever used. Crashed in 1 minute.\",\n",
        "        \"Super helpful support team, thanks a lot!\",\n",
        "        \"Nothing worked. Waste of time.\"\n",
        "    ],\n",
        "    \"label\": [1, 0, 1, 0, 1, 0]  # 1 = Positive, 0 = Negative\n",
        "}"
      ]
    },
    {
      "cell_type": "code",
      "execution_count": null,
      "metadata": {
        "id": "eDxvNlBWVsiD"
      },
      "outputs": [],
      "source": [
        "data"
      ]
    },
    {
      "cell_type": "code",
      "execution_count": null,
      "metadata": {
        "id": "gb4YXRT2VTU1"
      },
      "outputs": [],
      "source": [
        "df = pd.DataFrame(data)"
      ]
    },
    {
      "cell_type": "code",
      "execution_count": null,
      "metadata": {
        "id": "guhloh9PVupv"
      },
      "outputs": [],
      "source": [
        "df"
      ]
    },
    {
      "cell_type": "code",
      "execution_count": null,
      "metadata": {
        "id": "S55KsgFAVVQ-"
      },
      "outputs": [],
      "source": [
        "dataset = Dataset.from_pandas(df)"
      ]
    },
    {
      "cell_type": "code",
      "execution_count": null,
      "metadata": {
        "id": "n5TBvP5YVW-n"
      },
      "outputs": [],
      "source": [
        "dataset"
      ]
    },
    {
      "cell_type": "code",
      "execution_count": null,
      "metadata": {
        "id": "nKJx-Wgn_O91"
      },
      "outputs": [],
      "source": [
        "dataset = dataset.class_encode_column(\"label\")  # optional: make label a ClassLabel"
      ]
    },
    {
      "cell_type": "code",
      "execution_count": null,
      "metadata": {
        "id": "cVanBtQTVbx9"
      },
      "outputs": [],
      "source": [
        "dataset"
      ]
    },
    {
      "cell_type": "code",
      "execution_count": null,
      "metadata": {
        "id": "x0I0keI8ss2x"
      },
      "outputs": [],
      "source": [
        "import os\n",
        "from google.colab import userdata\n",
        "os.environ[\"HF_TOKEN\"] = userdata.get(\"HF_TOKEN_WRITE\")"
      ]
    },
    {
      "cell_type": "code",
      "execution_count": null,
      "metadata": {
        "id": "E4PdAiv_XFZ3"
      },
      "outputs": [],
      "source": [
        "from huggingface_hub import notebook_login\n",
        "notebook_login()"
      ]
    },
    {
      "cell_type": "code",
      "execution_count": null,
      "metadata": {
        "id": "b6YcCy1evif_"
      },
      "outputs": [],
      "source": [
        "from huggingface_hub import whoami\n",
        "print(whoami())"
      ]
    },
    {
      "cell_type": "code",
      "execution_count": null,
      "metadata": {
        "id": "dQ6UZYJjBg1X"
      },
      "outputs": [],
      "source": [
        "dataset.push_to_hub(\"sunny199/mycustomdata\")"
      ]
    },
    {
      "cell_type": "markdown",
      "metadata": {
        "id": "fWX9dIMiHO4G"
      },
      "source": [
        "### Tokenization"
      ]
    },
    {
      "cell_type": "markdown",
      "metadata": {
        "id": "3Ff_I4acHQj8"
      },
      "source": [
        "#### Install the transformer library"
      ]
    },
    {
      "cell_type": "code",
      "execution_count": null,
      "metadata": {
        "id": "EO8jWx9_G4RZ"
      },
      "outputs": [],
      "source": [
        "!pip install transformers"
      ]
    },
    {
      "cell_type": "code",
      "execution_count": null,
      "metadata": {
        "id": "lmwJCND5ZMiq"
      },
      "outputs": [],
      "source": [
        "from transformers import AutoTokenizer, AutoModel\n",
        "tokenizer = AutoTokenizer.from_pretrained(\"bert-base-cased\")"
      ]
    },
    {
      "cell_type": "code",
      "execution_count": null,
      "metadata": {
        "id": "_nZbtWL5x89P"
      },
      "outputs": [],
      "source": [
        "def tokenize(example):\n",
        "    return tokenizer(example, truncation=True, padding=\"max_length\")"
      ]
    },
    {
      "cell_type": "code",
      "execution_count": null,
      "metadata": {
        "id": "rRzdZympxo07"
      },
      "outputs": [],
      "source": [
        "dataset[\"text\"][0]"
      ]
    },
    {
      "cell_type": "code",
      "execution_count": null,
      "metadata": {
        "id": "qOgvq1Bqx05g"
      },
      "outputs": [],
      "source": [
        "tokenize(dataset[\"text\"][0])"
      ]
    },
    {
      "cell_type": "code",
      "execution_count": null,
      "metadata": {
        "id": "nzGIAgC3yErT"
      },
      "outputs": [],
      "source": [
        "def tokenize(example):\n",
        "    return tokenizer(example[\"text\"], truncation=True, padding=\"max_length\")"
      ]
    },
    {
      "cell_type": "code",
      "execution_count": null,
      "metadata": {
        "id": "mt7K9RTcZZOf"
      },
      "outputs": [],
      "source": [
        "encoded_dataset = dataset.map(tokenize, batched=True)"
      ]
    },
    {
      "cell_type": "code",
      "execution_count": null,
      "metadata": {
        "id": "-i2It4S0ZilN"
      },
      "outputs": [],
      "source": [
        "encoded_dataset"
      ]
    },
    {
      "cell_type": "code",
      "execution_count": null,
      "metadata": {
        "id": "wXwJBzjTyKnv"
      },
      "outputs": [],
      "source": [
        "encoded_dataset['input_ids'][0]"
      ]
    },
    {
      "cell_type": "code",
      "execution_count": null,
      "metadata": {
        "id": "4MRF8c6FyXUz"
      },
      "outputs": [],
      "source": [
        "encoded_dataset['token_type_ids'][0]"
      ]
    },
    {
      "cell_type": "code",
      "execution_count": null,
      "metadata": {
        "id": "0RpuLwVMXsrY"
      },
      "outputs": [],
      "source": [
        "tokenizer"
      ]
    },
    {
      "cell_type": "code",
      "execution_count": null,
      "metadata": {
        "id": "bQFnly06BZY8"
      },
      "outputs": [],
      "source": [
        "tokens=tokenizer.tokenize(\"Hello HuggingFace!\")"
      ]
    },
    {
      "cell_type": "code",
      "execution_count": null,
      "metadata": {
        "id": "V-iPzVxJ2F-y"
      },
      "outputs": [],
      "source": [
        "tokens"
      ]
    },
    {
      "cell_type": "code",
      "execution_count": null,
      "metadata": {
        "id": "cEtFwl7C1nv-"
      },
      "outputs": [],
      "source": [
        "tokens = tokenizer.tokenize(\"Hello, how are you?\")"
      ]
    },
    {
      "cell_type": "code",
      "execution_count": null,
      "metadata": {
        "id": "Dr2hOjcT1rNT"
      },
      "outputs": [],
      "source": [
        "tokens"
      ]
    },
    {
      "cell_type": "code",
      "execution_count": null,
      "metadata": {
        "id": "7gJ2QHT3Bgip"
      },
      "outputs": [],
      "source": [
        "hindi_tokenizer = AutoTokenizer.from_pretrained(\"ai4bharat/indic-bert\")"
      ]
    },
    {
      "cell_type": "code",
      "execution_count": null,
      "metadata": {
        "id": "vvo1elPa4LQl"
      },
      "outputs": [],
      "source": [
        "tokens=hindi_tokenizer.tokenize(\"मुझे एआई पसंद है।\")"
      ]
    },
    {
      "cell_type": "code",
      "execution_count": null,
      "metadata": {
        "id": "e8QO7iXZysT1"
      },
      "outputs": [],
      "source": [
        "tokens"
      ]
    },
    {
      "cell_type": "code",
      "execution_count": null,
      "metadata": {
        "id": "12PkUjR-GAQk"
      },
      "outputs": [],
      "source": [
        "inputs = tokenizer(\"Hello, how are you?\", return_tensors=\"pt\")"
      ]
    },
    {
      "cell_type": "code",
      "execution_count": null,
      "metadata": {
        "id": "2AdnAwGisOiL"
      },
      "outputs": [],
      "source": [
        "inputs"
      ]
    },
    {
      "cell_type": "markdown",
      "metadata": {
        "id": "jslHYOL_s9yW"
      },
      "source": [
        "1. input_ids:\n",
        "\n",
        "These are the IDs of the tokens from the model’s vocabulary.\n",
        "\n",
        "The sentence \"Hello, how are you?\" gets tokenized as:\n",
        "\n",
        "[CLS] Hello , how are you ? [SEP]\n",
        "\n",
        "Which corresponds to:\n",
        "\n",
        "[101, 7592, 1010, 2129, 2024, 2017, 1029, 102]\n",
        "\n",
        "2. token_type_ids:\n",
        "\n",
        "These are used in tasks like Next Sentence Prediction.\n",
        "\n",
        "0 means it's part of the first sentence\n",
        "\n",
        "If there was a second sentence, it would have 1s\n",
        "\n",
        "Since your input is just a single sentence, all values are 0.\n",
        "\n",
        "3. attention_mask:\n",
        "\n",
        "Tells the model which tokens are real and which are padding.\n",
        "\n",
        "1 means the token is real (not padding)\n",
        "\n",
        "0 means it’s padding (none here)\n",
        "\n",
        "What does return_tensors=\"pt\" do?\n",
        "\n",
        "It returns everything as PyTorch tensors (pt = PyTorch).\n",
        "\n",
        "If you use return_tensors=\"tf\", you'll get TensorFlow tensors."
      ]
    },
    {
      "cell_type": "markdown",
      "metadata": {
        "id": "ou1kcVzaZjW6"
      },
      "source": [
        "### How to tokenize large dataset faster"
      ]
    },
    {
      "cell_type": "code",
      "execution_count": null,
      "metadata": {
        "id": "Kg6oMO_OZgdS"
      },
      "outputs": [],
      "source": [
        "import time\n",
        "text = [\"This is a sample sentence for tokenization.\"] * 100000"
      ]
    },
    {
      "cell_type": "code",
      "execution_count": null,
      "metadata": {
        "id": "2-O3MTYMZmQl"
      },
      "outputs": [],
      "source": [
        "# Fast\n",
        "start = time.time()\n",
        "tok_fast = AutoTokenizer.from_pretrained(\"bert-base-cased\", use_fast=True)\n",
        "tok_fast(text, padding=True, truncation=True)\n",
        "print(\"Fast Time:\", time.time() - start)"
      ]
    },
    {
      "cell_type": "code",
      "execution_count": null,
      "metadata": {
        "id": "tQqbhQoW7jiQ"
      },
      "outputs": [],
      "source": [
        "# Slow\n",
        "start = time.time()\n",
        "tok_slow = AutoTokenizer.from_pretrained(\"bert-base-cased\", use_fast=False)\n",
        "tok_slow(text, padding=True, truncation=True)\n",
        "print(\"Slow Time:\", time.time() - start)"
      ]
    },
    {
      "cell_type": "markdown",
      "metadata": {
        "id": "apMp1oYz7vae"
      },
      "source": [
        "| Feature         | Fast Tokenizer (`use_fast=True`)       | Slow Tokenizer (`use_fast=False`) |\n",
        "| --------------- | -------------------------------------- | --------------------------------- |\n",
        "| Backend         | Built in **Rust** (super fast)       | Built in **Python** (slower)   |\n",
        "| Tokenizer Class | `BertTokenizerFast`                    | `BertTokenizer`                   |\n",
        "| Speed           | Very fast                           | Much slower                    |\n",
        "| Library Used    | `tokenizers` (Rust)                    | `transformers` (pure Python)      |\n",
        "| Memory usage    | Slightly higher (due to Rust overhead) | Lower                             |\n"
      ]
    },
    {
      "cell_type": "markdown",
      "metadata": {
        "id": "ncgZMdEt8v1k"
      },
      "source": [
        "## Do you wanna create your own tokenizer?\n",
        "\n",
        "### Here You're training your own custom tokenizer from scratch using the Byte Pair Encoding (BPE) algorithm, with Hugging Face’s fast tokenizers library.\n",
        "\n",
        "Below code creates a custom tokenizer from your own small dataset using the BPE algorithm, with:\n",
        "\n",
        "Whitespace splitting,\n",
        "\n",
        "100-token vocabulary,\n",
        "\n",
        "Trained from scratch."
      ]
    },
    {
      "cell_type": "markdown",
      "metadata": {
        "id": "GrW5odAUbuMw"
      },
      "source": [
        "Byte Pair Encoding (BPE) is a subword tokenization algorithm that helps break down words into smaller pieces (subwords), making it especially useful for handling rare words and unknown words in NLP tasks."
      ]
    },
    {
      "cell_type": "code",
      "execution_count": null,
      "metadata": {
        "id": "_pOyOvnS8yqE"
      },
      "outputs": [],
      "source": [
        "from tokenizers import Tokenizer, models, trainers, pre_tokenizers\n",
        "corpus = [\"I love transformers!\", \"Tokenizers are amazing.\", \"Build your own.\\n\"]"
      ]
    },
    {
      "cell_type": "code",
      "execution_count": null,
      "metadata": {
        "id": "woUvajRzc3Zv"
      },
      "outputs": [],
      "source": [
        "corpus"
      ]
    },
    {
      "cell_type": "code",
      "execution_count": null,
      "metadata": {
        "id": "yuOAISfAb8o6"
      },
      "outputs": [],
      "source": [
        "tokenizer = Tokenizer(models.BPE())"
      ]
    },
    {
      "cell_type": "code",
      "execution_count": null,
      "metadata": {
        "id": "qH5qcMvcb_Tu"
      },
      "outputs": [],
      "source": [
        "tokenizer.pre_tokenizer = pre_tokenizers.Whitespace()"
      ]
    },
    {
      "cell_type": "code",
      "execution_count": null,
      "metadata": {
        "id": "5FbCv6V6cAwc"
      },
      "outputs": [],
      "source": [
        "trainer = trainers.BpeTrainer(vocab_size=100)"
      ]
    },
    {
      "cell_type": "code",
      "execution_count": null,
      "metadata": {
        "id": "1iB66e4Y80p7"
      },
      "outputs": [],
      "source": [
        "tokenizer.train_from_iterator(corpus, trainer)"
      ]
    },
    {
      "cell_type": "code",
      "execution_count": null,
      "metadata": {
        "id": "qOjtvHTe81wT"
      },
      "outputs": [],
      "source": [
        "# Save\n",
        "tokenizer.save(\"custom-tokenizer.json\")"
      ]
    },
    {
      "cell_type": "code",
      "execution_count": null,
      "metadata": {
        "id": "U9sqwzSQ8uHr"
      },
      "outputs": [],
      "source": [
        "from transformers import PreTrainedTokenizerFast\n",
        "\n",
        "hf_tokenizer = PreTrainedTokenizerFast(\n",
        "    tokenizer_file=\"/content/custom-tokenizer.json\",\n",
        "    unk_token=\"[UNK]\",\n",
        "    pad_token=\"[PAD]\",\n",
        "    cls_token=\"[CLS]\",\n",
        "    sep_token=\"[SEP]\",\n",
        "    mask_token=\"[MASK]\"\n",
        ")"
      ]
    },
    {
      "cell_type": "code",
      "execution_count": null,
      "metadata": {
        "id": "dxUmxVBl83hs"
      },
      "outputs": [],
      "source": [
        "hf_tokenizer.save_pretrained(\"my_tokenizer_hf\")"
      ]
    },
    {
      "cell_type": "markdown",
      "metadata": {
        "id": "dNvHkaxsBuWu"
      },
      "source": [
        "### Now load the model"
      ]
    },
    {
      "cell_type": "code",
      "execution_count": null,
      "metadata": {
        "id": "k8_3QHZotztW"
      },
      "outputs": [],
      "source": [
        "from transformers import AutoTokenizer, AutoModel\n",
        "tokenizer = AutoTokenizer.from_pretrained(\"bert-base-cased\")"
      ]
    },
    {
      "cell_type": "code",
      "execution_count": null,
      "metadata": {
        "id": "ibo8keufem2b"
      },
      "outputs": [],
      "source": [
        "inputs = tokenizer(\"Hello, how are you?\", return_tensors=\"pt\")"
      ]
    },
    {
      "cell_type": "code",
      "execution_count": null,
      "metadata": {
        "id": "DljrCs0VGCdT"
      },
      "outputs": [],
      "source": [
        "model = AutoModel.from_pretrained(\"bert-base-uncased\")"
      ]
    },
    {
      "cell_type": "code",
      "execution_count": null,
      "metadata": {
        "id": "uDp1m8h1sYyD"
      },
      "outputs": [],
      "source": [
        "model"
      ]
    },
    {
      "cell_type": "code",
      "execution_count": null,
      "metadata": {
        "id": "YqswohRvGDZ_"
      },
      "outputs": [],
      "source": [
        "import torch\n",
        "with torch.no_grad():\n",
        "    outputs = model(**inputs)"
      ]
    },
    {
      "cell_type": "code",
      "execution_count": null,
      "metadata": {
        "id": "Pnw3QDcjGQV1"
      },
      "outputs": [],
      "source": [
        "print(outputs)"
      ]
    },
    {
      "cell_type": "code",
      "execution_count": null,
      "metadata": {
        "id": "tCwM4jru0DJl"
      },
      "outputs": [],
      "source": [
        "print(outputs.last_hidden_state.shape)"
      ]
    },
    {
      "cell_type": "code",
      "execution_count": null,
      "metadata": {
        "id": "fMcxVpb-0yBk"
      },
      "outputs": [],
      "source": [
        "print(outputs.last_hidden_state[0])"
      ]
    },
    {
      "cell_type": "code",
      "execution_count": null,
      "metadata": {
        "id": "wYyv3tGI05YU"
      },
      "outputs": [],
      "source": [
        "print(len(outputs.last_hidden_state[0][0]))"
      ]
    },
    {
      "cell_type": "code",
      "execution_count": null,
      "metadata": {
        "id": "UWTLWACg07jJ"
      },
      "outputs": [],
      "source": [
        "print(outputs.last_hidden_state[0][1])"
      ]
    },
    {
      "cell_type": "code",
      "execution_count": null,
      "metadata": {
        "id": "CZ7KlbYB3OSl"
      },
      "outputs": [],
      "source": [
        "len(outputs.last_hidden_state[0].mean(dim=0))"
      ]
    },
    {
      "cell_type": "code",
      "execution_count": null,
      "metadata": {
        "id": "g_V2yRP65Rou"
      },
      "outputs": [],
      "source": [
        "outputs.last_hidden_state[0].mean(dim=0)"
      ]
    },
    {
      "cell_type": "code",
      "execution_count": null,
      "metadata": {
        "id": "YNcq3fND0kmg"
      },
      "outputs": [],
      "source": [
        "# print(outputs.last_hidden_state[0, 0])"
      ]
    },
    {
      "cell_type": "markdown",
      "metadata": {
        "id": "mZvEt7ZF6be4"
      },
      "source": [
        "![image.png](data:image/png;base64,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)\n",
        "\n",
        "[Multi-head Attention] → [Add + Norm] → [Feedforward] → [Add + Norm]\n"
      ]
    },
    {
      "cell_type": "markdown",
      "metadata": {
        "id": "_uNOeOBQCMhD"
      },
      "source": [
        "### Lets Perform a small Practical"
      ]
    },
    {
      "cell_type": "code",
      "execution_count": null,
      "metadata": {
        "id": "p-noHSQTCSkx"
      },
      "outputs": [],
      "source": [
        "from torch.nn.functional import cosine_similarity"
      ]
    },
    {
      "cell_type": "code",
      "execution_count": null,
      "metadata": {
        "id": "yhZ6ag88CVS8"
      },
      "outputs": [],
      "source": [
        "sentence1 = \"Hello, how are you?\"\n",
        "sentence2 = \"Hi, how do you do?\""
      ]
    },
    {
      "cell_type": "code",
      "execution_count": null,
      "metadata": {
        "id": "OthwaXUpCXiC"
      },
      "outputs": [],
      "source": [
        "inputs1 = tokenizer(sentence1, return_tensors=\"pt\")\n",
        "inputs2 = tokenizer(sentence2, return_tensors=\"pt\")"
      ]
    },
    {
      "cell_type": "code",
      "execution_count": null,
      "metadata": {
        "id": "hZtQnWH4ttKW"
      },
      "outputs": [],
      "source": [
        "with torch.no_grad():\n",
        "    output1 = model(**inputs1).last_hidden_state[0].mean(dim=0)\n",
        "    output2 = model(**inputs2).last_hidden_state[0].mean(dim=0)"
      ]
    },
    {
      "cell_type": "code",
      "execution_count": null,
      "metadata": {
        "id": "zEeXNXZltqdc"
      },
      "outputs": [],
      "source": [
        "similarity = cosine_similarity(output1, output2, dim=0)\n",
        "print(f\"Similarity: {similarity.item():.4f}\")"
      ]
    },
    {
      "cell_type": "markdown",
      "metadata": {
        "id": "qRGx3GP22Z9S"
      },
      "source": [
        "## sentence transformer library: https://huggingface.co/sentence-transformers"
      ]
    },
    {
      "cell_type": "code",
      "execution_count": null,
      "metadata": {
        "id": "YLLUGr6u2rdr"
      },
      "outputs": [],
      "source": [
        "!pip install -U sentence-transformers"
      ]
    },
    {
      "cell_type": "code",
      "execution_count": null,
      "metadata": {
        "id": "pco5Xs9i2zzU"
      },
      "outputs": [],
      "source": [
        "from sentence_transformers import SentenceTransformer"
      ]
    },
    {
      "cell_type": "code",
      "execution_count": null,
      "metadata": {
        "id": "Y58Ko39O24LU"
      },
      "outputs": [],
      "source": [
        "# Load a sentence embedding model (trained for similarity tasks)\n",
        "model = SentenceTransformer(\"all-MiniLM-L6-v2\")"
      ]
    },
    {
      "cell_type": "code",
      "execution_count": null,
      "metadata": {
        "id": "XYnvhVf00Szy"
      },
      "outputs": [],
      "source": [
        "# Step 1: Encode both sentences into embeddings\n",
        "embedding1 = model.encode(sentence1, convert_to_tensor=True)"
      ]
    },
    {
      "cell_type": "code",
      "execution_count": null,
      "metadata": {
        "id": "5Jy_rnSG0UFt"
      },
      "outputs": [],
      "source": [
        "embedding1"
      ]
    },
    {
      "cell_type": "code",
      "execution_count": null,
      "metadata": {
        "id": "4rZ4AS1r0dpy"
      },
      "outputs": [],
      "source": [
        "len(embedding1)"
      ]
    },
    {
      "cell_type": "code",
      "execution_count": null,
      "metadata": {
        "id": "ge_hNWE32VjN"
      },
      "outputs": [],
      "source": [
        "embedding2 = model.encode(sentence2, convert_to_tensor=True)"
      ]
    },
    {
      "cell_type": "code",
      "execution_count": null,
      "metadata": {
        "id": "EFI6-iM30tZp"
      },
      "outputs": [],
      "source": [
        "embedding2"
      ]
    },
    {
      "cell_type": "code",
      "execution_count": null,
      "metadata": {
        "id": "YAA7FXhF25TC"
      },
      "outputs": [],
      "source": [
        "similarity = cosine_similarity(embedding1, embedding2, dim=0)\n",
        "print(f\"Similarity: {similarity.item():.4f}\")"
      ]
    },
    {
      "cell_type": "markdown",
      "metadata": {
        "id": "_Ey7DP380dYU"
      },
      "source": [
        "## Example of AutoModelClass with Different heads\n",
        "\n",
        "| Task                        | Class Name                                          | Description                                          |\n",
        "| --------------------------- | --------------------------------------------------- | ---------------------------------------------------- |\n",
        "| Base Model               | `AutoModel`                                         | Just embeddings (no head), for feature extraction    |\n",
        "| Masked LM                | `AutoModelForMaskedLM`                              | For BERT-style `[MASK]` prediction                   |\n",
        "| Sequence Classification | `AutoModelForSequenceClassification`                | For sentence-level tasks like sentiment, spam        |\n",
        "| Token Classification     | `AutoModelForTokenClassification`                   | For NER, POS tagging (token-level labels)            |\n",
        "| Multiple Choice          | `AutoModelForMultipleChoice`                        | For MCQ tasks (e.g., SWAG dataset)                   |\n",
        "| Next Sentence Prediction | `AutoModelForNextSentencePrediction`                | For NSP (mainly BERT pretraining)                    |\n",
        "| Causal LM (Text Gen)     | `AutoModelForCausalLM`                              | For GPT-style models (left-to-right text generation) |\n",
        "| Seq2Seq LM               | `AutoModelForSeq2SeqLM`                             | For translation, summarization (T5, BART)            |\n",
        "| Question Answering       | `AutoModelForQuestionAnswering`                     | For extractive QA (SQuAD-style)                      |\n",
        "| Vision Tasks            | `AutoModelForImageClassification`, etc.             | For image classification (e.g., ViT)                 |\n",
        "| Audio Tasks              | `AutoModelForAudioClassification`, etc.             | For Wav2Vec, Whisper, etc.                           |\n",
        "| Conditional Generation   | `AutoModelForConditionalGeneration`                 | For T5/BART-style seq2seq tasks                      |\n",
        "| Zero-shot Tasks          | `AutoModelForZeroShotClassification` (via pipeline) | For inference without fine-tuning                    |\n",
        "| Contrastive Learning     | `AutoModelForContrastiveLearning`                   | For embeddings comparison tasks                      |\n"
      ]
    },
    {
      "cell_type": "code",
      "execution_count": null,
      "metadata": {
        "id": "IFUvmnJCCusP"
      },
      "outputs": [],
      "source": [
        "sentence = \"I am doing very happy\""
      ]
    },
    {
      "cell_type": "code",
      "execution_count": null,
      "metadata": {
        "id": "ZfLGvVGICwWS"
      },
      "outputs": [],
      "source": [
        "inputs = tokenizer(sentence, return_tensors=\"pt\")"
      ]
    },
    {
      "cell_type": "code",
      "execution_count": null,
      "metadata": {
        "id": "HN9FaFDN1Whv"
      },
      "outputs": [],
      "source": [
        "inputs"
      ]
    },
    {
      "cell_type": "code",
      "execution_count": null,
      "metadata": {
        "id": "ckR9Dbc4CyOb"
      },
      "outputs": [],
      "source": [
        "inputs.pop(\"token_type_ids\")"
      ]
    },
    {
      "cell_type": "code",
      "execution_count": null,
      "metadata": {
        "id": "IBIyROVX1aiJ"
      },
      "outputs": [],
      "source": [
        "inputs"
      ]
    },
    {
      "cell_type": "code",
      "execution_count": null,
      "metadata": {
        "id": "7sCOH5siC1RG"
      },
      "outputs": [],
      "source": [
        "from transformers import AutoModelForSequenceClassification"
      ]
    },
    {
      "cell_type": "code",
      "execution_count": null,
      "metadata": {
        "id": "fV1KlMrRGcIi"
      },
      "outputs": [],
      "source": [
        "clf_model = AutoModelForSequenceClassification.from_pretrained(\"distilbert-base-uncased-finetuned-sst-2-english\")"
      ]
    },
    {
      "cell_type": "code",
      "execution_count": null,
      "metadata": {
        "id": "5_Kp71AmGcLf"
      },
      "outputs": [],
      "source": [
        "import torch\n",
        "with torch.no_grad():\n",
        "    outputs = clf_model(**inputs)"
      ]
    },
    {
      "cell_type": "code",
      "execution_count": null,
      "metadata": {
        "id": "xSabG2ycGidE"
      },
      "outputs": [],
      "source": [
        "logits = outputs.logits"
      ]
    },
    {
      "cell_type": "code",
      "execution_count": null,
      "metadata": {
        "id": "VSrCBFaDGleJ"
      },
      "outputs": [],
      "source": [
        "predicted_class = torch.argmax(logits, dim=1)"
      ]
    },
    {
      "cell_type": "code",
      "execution_count": null,
      "metadata": {
        "id": "g9IiPEfLGoqx"
      },
      "outputs": [],
      "source": [
        "print(predicted_class.item())  # 1 = Positive, 0 = Negative"
      ]
    },
    {
      "cell_type": "code",
      "execution_count": null,
      "metadata": {
        "id": "bXwdIA0iC4pa"
      },
      "outputs": [],
      "source": [
        "from transformers import AutoTokenizer, AutoModelForCausalLM"
      ]
    },
    {
      "cell_type": "code",
      "execution_count": null,
      "metadata": {
        "id": "063nAlKZC56c"
      },
      "outputs": [],
      "source": [
        "gpt_tok = AutoTokenizer.from_pretrained(\"gpt2\")\n",
        "gpt_model = AutoModelForCausalLM.from_pretrained(\"gpt2\")"
      ]
    },
    {
      "cell_type": "code",
      "execution_count": null,
      "metadata": {
        "id": "JHwMX-myC8G8"
      },
      "outputs": [],
      "source": [
        "sentence = \"Transformers are beast\""
      ]
    },
    {
      "cell_type": "code",
      "execution_count": null,
      "metadata": {
        "id": "06BXMb8LC9Eh"
      },
      "outputs": [],
      "source": [
        "gpt_inputs = gpt_tok(sentence, return_tensors=\"pt\")"
      ]
    },
    {
      "cell_type": "code",
      "execution_count": null,
      "metadata": {
        "id": "3cz9qcMLRuPX"
      },
      "outputs": [],
      "source": [
        "with torch.no_grad():\n",
        "    gpt_output = gpt_model.generate(\n",
        "        gpt_inputs[\"input_ids\"],\n",
        "        max_length=gpt_inputs[\"input_ids\"].shape[1] + 5,  # predict next 5 tokens\n",
        "        do_sample=False  # deterministic output\n",
        "    )\n"
      ]
    },
    {
      "cell_type": "code",
      "execution_count": null,
      "metadata": {
        "id": "DeVX9zudDCPm"
      },
      "outputs": [],
      "source": [
        "generated_text = gpt_tok.decode(gpt_output[0], skip_special_tokens=True)"
      ]
    },
    {
      "cell_type": "code",
      "execution_count": null,
      "metadata": {
        "id": "OuhGz2C7DDSQ"
      },
      "outputs": [],
      "source": [
        "print(\"GPT-2 generated:\", generated_text)"
      ]
    },
    {
      "cell_type": "code",
      "execution_count": null,
      "metadata": {
        "id": "gMYZlrSnDVXx"
      },
      "outputs": [],
      "source": [
        "from transformers import AutoConfig, AutoModel"
      ]
    },
    {
      "cell_type": "code",
      "execution_count": null,
      "metadata": {
        "id": "GIvCdHRpDWr7"
      },
      "outputs": [],
      "source": [
        "config = AutoConfig.from_pretrained(\"bert-base-uncased\")"
      ]
    },
    {
      "cell_type": "code",
      "execution_count": null,
      "metadata": {
        "id": "wSkvt8naDZXV"
      },
      "outputs": [],
      "source": [
        "print(config.hidden_size)\n",
        "print(config.num_attention_heads)\n",
        "print(config.vocab_size)\n",
        "print(config.hidden_act)  # shows which activation function is used\n",
        "print(config.num_labels)"
      ]
    },
    {
      "cell_type": "code",
      "execution_count": null,
      "metadata": {
        "id": "O_Qj_-6tDhvr"
      },
      "outputs": [],
      "source": [
        "config.num_labels = 5  # change for multi-class classification"
      ]
    },
    {
      "cell_type": "code",
      "execution_count": null,
      "metadata": {
        "id": "hOkpP3Fs2uHz"
      },
      "outputs": [],
      "source": [
        "print(config.num_labels)"
      ]
    },
    {
      "cell_type": "code",
      "execution_count": null,
      "metadata": {
        "id": "fM9jPMztDSkP"
      },
      "outputs": [],
      "source": [
        "model = AutoModel.from_config(config)  # No pretrained weights"
      ]
    },
    {
      "cell_type": "code",
      "execution_count": null,
      "metadata": {
        "id": "B8mbBs2z6-0_"
      },
      "outputs": [],
      "source": [
        "model"
      ]
    },
    {
      "cell_type": "markdown",
      "metadata": {
        "id": "EkD4WoDPSlZW"
      },
      "source": [
        "| Feature                      | `AutoModel`, `AutoModelForSequenceClassification`, etc. | `AutoConfig`     |\n",
        "| ---------------------------- | ------------------------------------------------------- | ---------------- |\n",
        "| Load Pretrained Weights?     | ✅ Yes                                                   | ❌ No             |\n",
        "| Returns Model?               | ✅ Yes (BERT, DistilBERT, etc.)                          | ❌ No             |\n",
        "| Used for Training/Inference? | ✅                                                       | ❌ (only config)  |\n",
        "| Editable for Custom Models?  | Limited                                                 | ✅ Fully Editable |\n"
      ]
    },
    {
      "cell_type": "markdown",
      "metadata": {
        "id": "9pXxZaspHRLC"
      },
      "source": [
        "#### If you want to download the model on your local machine then follow below code"
      ]
    },
    {
      "cell_type": "code",
      "execution_count": null,
      "metadata": {
        "id": "XtxqAiGYEAb2"
      },
      "outputs": [],
      "source": [
        "from huggingface_hub import snapshot_download"
      ]
    },
    {
      "cell_type": "code",
      "execution_count": null,
      "metadata": {
        "id": "hO_p1JvwHDKt"
      },
      "outputs": [],
      "source": [
        "snapshot_download(\n",
        "    repo_id=\"bert-base-uncased\",\n",
        "    local_dir=\"/content/test\",   # where to download\n",
        "    local_dir_use_symlinks=False  # to copy instead of symlinking\n",
        ")"
      ]
    },
    {
      "cell_type": "markdown",
      "metadata": {
        "id": "OHkgk070EEgb"
      },
      "source": [
        "### Load the model"
      ]
    },
    {
      "cell_type": "code",
      "execution_count": null,
      "metadata": {
        "id": "bJh0QWuAEHMq"
      },
      "outputs": [],
      "source": [
        "from transformers import AutoTokenizer, AutoModel"
      ]
    },
    {
      "cell_type": "code",
      "execution_count": null,
      "metadata": {
        "id": "__5JhdeIEIaL"
      },
      "outputs": [],
      "source": [
        "tokenizer = AutoTokenizer.from_pretrained(\"/content/test\")"
      ]
    },
    {
      "cell_type": "code",
      "execution_count": null,
      "metadata": {
        "id": "RHQbNfpR5sH-"
      },
      "outputs": [],
      "source": [
        "tokenizer"
      ]
    },
    {
      "cell_type": "code",
      "execution_count": null,
      "metadata": {
        "id": "YGlGdWv90P4N"
      },
      "outputs": [],
      "source": [
        "model = AutoModel.from_pretrained(\"/content/test\")"
      ]
    },
    {
      "cell_type": "code",
      "execution_count": null,
      "metadata": {
        "id": "tcTXnbWG5uFy"
      },
      "outputs": [],
      "source": [
        "model"
      ]
    },
    {
      "cell_type": "markdown",
      "metadata": {
        "id": "D-TJH_wlBraS"
      },
      "source": [
        "# Inbuilt Pipeline method"
      ]
    },
    {
      "cell_type": "markdown",
      "metadata": {
        "id": "Fb_h5cE_xyy-"
      },
      "source": [
        "| Parameter           | Type                        | Description / Use Case                                                               |\n",
        "| ------------------- | --------------------------- | ------------------------------------------------------------------------------------ |\n",
        "| `task`              | `str`                       | Task name like `\"text-classification\"`, `\"text-generation\"`, `\"summarization\"`, etc. |\n",
        "| `model`             | `str` or `PreTrainedModel`  | Model name (e.g., `\"bert-base-uncased\"`) or loaded model object                      |\n",
        "| `tokenizer`         | `str` or Tokenizer Object   | Optional – auto-loaded from model if not given                                       |\n",
        "| `config`            | `str` or `PretrainedConfig` | Optional – custom configuration (e.g., num labels, dropout, etc.)                    |\n",
        "| `framework`         | `str` (`\"pt\"` or `\"tf\"`)    | Force PyTorch or TensorFlow (auto-detected if not set)                               |\n",
        "| `device`            | `int` or `str`              | `0` = GPU, `-1` = CPU, `\"cuda\"` or `\"cpu\"`                                           |\n",
        "| `revision`          | `str`                       | Git branch/tag/commit from Hugging Face Hub (e.g., `\"main\"`, `\"v1.0\"`)               |\n",
        "| `use_fast`          | `bool`                      | Whether to use fast tokenizer (defaults to `True`)                                   |\n",
        "| `token`             | `str` or `bool`             | Hugging Face token (needed for private models or rate limits)                        |\n",
        "| `device_map`        | `Any`                       | For multi-GPU / model parallelism                                                    |\n",
        "| `torch_dtype`       | `torch.dtype`               | Force precision: e.g., `torch.float16` for faster inference                          |\n",
        "| `trust_remote_code` | `bool`                      | Allow loading custom `model.py` logic from HF repo (for advanced/custom models)      |\n",
        "| `model_kwargs`      | `dict`                      | Extra arguments to pass to model (e.g., `temperature`, `top_p`, `max_length`, etc.)  |\n",
        "| `feature_extractor` | `str` or Object             | Used for older vision/audio models (now replaced by `image_processor`)               |\n",
        "| `image_processor`   | `BaseImageProcessor`        | For image tasks (used in ViT, SAM, etc.)                                             |\n",
        "| `processor`         | `ProcessorMixin`            | For multi-modal models (e.g., Whisper, CLIP, LayoutLMv3)                             |\n",
        "| `pipeline_class`    | `Any`                       | Custom pipeline class if you’re extending or modifying the base pipeline logic       |\n",
        "| `**kwargs`          | `Any`                       | Additional pipeline-specific keyword arguments (like `max_length`, `top_k`, etc.)    |\n"
      ]
    },
    {
      "cell_type": "code",
      "execution_count": null,
      "metadata": {
        "id": "uL8tEkUA7yaZ"
      },
      "outputs": [],
      "source": [
        "from transformers import pipeline"
      ]
    },
    {
      "cell_type": "code",
      "execution_count": null,
      "metadata": {
        "id": "S3FS9Oh6Eo76"
      },
      "outputs": [],
      "source": [
        "classifier=pipeline(\"sentiment-analysis\")"
      ]
    },
    {
      "cell_type": "code",
      "execution_count": null,
      "metadata": {
        "id": "X6wUmRRQEqhi"
      },
      "outputs": [],
      "source": [
        "classifier(\"i will learn AI throughout my entire life it is like a passion\")"
      ]
    },
    {
      "cell_type": "code",
      "execution_count": null,
      "metadata": {
        "id": "bFNRACtwFhbT"
      },
      "outputs": [],
      "source": [
        "classifier(\"mera dost don hai\")"
      ]
    },
    {
      "cell_type": "code",
      "execution_count": null,
      "metadata": {
        "id": "MpIEWXjdNYkX"
      },
      "outputs": [],
      "source": [
        "result = pipeline(\"sentiment-analysis\")(\"Hugging Face is awesome\")\n",
        "print(result)"
      ]
    },
    {
      "cell_type": "code",
      "execution_count": null,
      "metadata": {
        "id": "GrJ2w7ql59N0"
      },
      "outputs": [],
      "source": [
        "lassifier=pipeline(\"zero-shot-classification\")"
      ]
    },
    {
      "cell_type": "code",
      "execution_count": null,
      "metadata": {
        "id": "PlwU4DWpFjEx"
      },
      "outputs": [],
      "source": [
        "res = lassifier(\n",
        "    \"This is a course about Python list comprehension\",\n",
        "    candidate_labels=[\"education\", \"politics\", \"business\"],\n",
        ")"
      ]
    },
    {
      "cell_type": "code",
      "execution_count": null,
      "metadata": {
        "id": "IuZeFYYoMM1C"
      },
      "outputs": [],
      "source": [
        "print(res)"
      ]
    },
    {
      "cell_type": "code",
      "execution_count": null,
      "metadata": {
        "id": "0gjil0g5MTSk"
      },
      "outputs": [],
      "source": [
        "generation=pipeline(\"text-generation\")"
      ]
    },
    {
      "cell_type": "code",
      "execution_count": null,
      "metadata": {
        "id": "OhvSbk8tMn1C"
      },
      "outputs": [],
      "source": [
        "generation(\"python is a simple language what is your thought?\")"
      ]
    },
    {
      "cell_type": "code",
      "execution_count": null,
      "metadata": {
        "id": "YrwjydzSMrSC"
      },
      "outputs": [],
      "source": [
        "generation(\"hello how are you?\")"
      ]
    },
    {
      "cell_type": "code",
      "execution_count": null,
      "metadata": {
        "id": "wAFuRYCeMu9q"
      },
      "outputs": [],
      "source": [
        "summarizer=pipeline(\"summarization\")"
      ]
    },
    {
      "cell_type": "code",
      "execution_count": null,
      "metadata": {
        "id": "7bo4Ua8SMw_C"
      },
      "outputs": [],
      "source": [
        "text=\"A large language model (LLM) is a machine learning model that uses deep learning to perform natural language processing (NLP) tasks. LLMs are trained on large amounts of text to learn how to respond to user requests with human-like language.\""
      ]
    },
    {
      "cell_type": "code",
      "execution_count": null,
      "metadata": {
        "id": "TElQdf_KMzZ6"
      },
      "outputs": [],
      "source": [
        "print(summarizer(text,max_length=10))"
      ]
    },
    {
      "cell_type": "markdown",
      "metadata": {
        "id": "zj_m5rSh6-Jh"
      },
      "source": [
        "| Property          | Value                                                             |\n",
        "| ----------------- | ----------------------------------------------------------------- |\n",
        "| **Model Name**    | `google/long-t5-tglobal-base`                                     |\n",
        "| **Architecture**  | Long-T5 (based on T5 but designed for *long documents*)           |\n",
        "| **Type**          | Encoder-decoder Transformer (seq2seq)                             |\n",
        "| **Token Limit**   | Can handle **16,384 tokens** (way more than normal T5 → 512/1024) |\n",
        "| **Attention**     | Uses **\"Transverse Global Attention\"**, better for long contexts  |\n",
        "| **Pretrained By** | Google Research                                                   |\n",
        "| **Tasks**         | Mainly for **summarization**, also good for long text generation  |\n",
        "| **Variants**      | `base`, `large`, `xl` – you are using `base`                      |\n"
      ]
    },
    {
      "cell_type": "code",
      "execution_count": null,
      "metadata": {
        "id": "8mT5wp9g6lIF"
      },
      "outputs": [],
      "source": [
        "summarizer = pipeline(\"summarization\", model=\"google/long-t5-tglobal-base\")"
      ]
    },
    {
      "cell_type": "code",
      "execution_count": null,
      "metadata": {
        "id": "0eTrvleg7BRk"
      },
      "outputs": [],
      "source": [
        "summary = summarizer(text, max_length=50, min_length=10, do_sample=False)"
      ]
    },
    {
      "cell_type": "code",
      "execution_count": null,
      "metadata": {
        "id": "zXGyNLd_M211"
      },
      "outputs": [],
      "source": [
        "print(summary[0]['summary_text'])"
      ]
    },
    {
      "cell_type": "code",
      "execution_count": null,
      "metadata": {
        "id": "vqgIHzg07gi2"
      },
      "outputs": [],
      "source": [
        "qa = pipeline(\"question-answering\")\n",
        "print(qa(question=\"Where do I work?\", context=\"I work at Hugging Face.\"))"
      ]
    },
    {
      "cell_type": "code",
      "execution_count": null,
      "metadata": {
        "id": "G4RLQKQz70pl"
      },
      "outputs": [],
      "source": [
        "from transformers import pipeline\n",
        "import time\n",
        "\n",
        "texts = [\"I absolutely love transformers!\"] * 100"
      ]
    },
    {
      "cell_type": "code",
      "execution_count": null,
      "metadata": {
        "id": "cPcnHdza72h0"
      },
      "outputs": [],
      "source": [
        "# BERT\n",
        "start = time.time()\n",
        "bert = pipeline(\"sentiment-analysis\", model=\"bert-base-uncased\")\n",
        "bert(texts)\n",
        "print(\"BERT Time:\", time.time() - start)"
      ]
    },
    {
      "cell_type": "code",
      "execution_count": null,
      "metadata": {
        "id": "CaexoJY7S6sZ"
      },
      "outputs": [],
      "source": [
        "# DistilBERT\n",
        "start = time.time()\n",
        "distil = pipeline(\"sentiment-analysis\", model=\"distilbert-base-uncased-finetuned-sst-2-english\")\n",
        "distil(texts)\n",
        "print(\"DistilBERT Time:\", time.time() - start)"
      ]
    },
    {
      "cell_type": "markdown",
      "metadata": {
        "id": "PGGs_GkyS_RK"
      },
      "source": [
        "## Evalution Matrixs"
      ]
    },
    {
      "cell_type": "code",
      "execution_count": null,
      "metadata": {
        "id": "JpMxC-vNOmTK"
      },
      "outputs": [],
      "source": [
        "!pip install evaluate\n",
        "!pip install rouge_score\n",
        "!pip install evaluate[visualization]"
      ]
    },
    {
      "cell_type": "code",
      "execution_count": null,
      "metadata": {
        "id": "tCuoY1B4KjO6"
      },
      "outputs": [],
      "source": [
        "!pip install -U datasets fsspec"
      ]
    },
    {
      "cell_type": "code",
      "execution_count": null,
      "metadata": {
        "id": "6KzC8IUUDHwZ"
      },
      "outputs": [],
      "source": [
        "import evaluate"
      ]
    },
    {
      "cell_type": "code",
      "execution_count": null,
      "metadata": {
        "id": "njfBNlaxEMiH"
      },
      "outputs": [],
      "source": [
        "accuracy = evaluate.load(\"accuracy\")"
      ]
    },
    {
      "cell_type": "code",
      "execution_count": null,
      "metadata": {
        "id": "8uhpIdiTEPBE"
      },
      "outputs": [],
      "source": [
        "result = accuracy.compute(predictions=[0, 1, 1, 0], references=[0, 1, 0, 0])"
      ]
    },
    {
      "cell_type": "code",
      "execution_count": null,
      "metadata": {
        "id": "djjpUm3LTG4N"
      },
      "outputs": [],
      "source": [
        "print(result)"
      ]
    },
    {
      "cell_type": "code",
      "execution_count": null,
      "metadata": {
        "id": "ky9zhXthJajK"
      },
      "outputs": [],
      "source": [
        "def compute_metrics(eval_pred):\n",
        "    logits, labels = eval_pred\n",
        "    predictions = logits.argmax(axis=-1)\n",
        "    return accuracy.compute(predictions=predictions, references=labels)"
      ]
    },
    {
      "cell_type": "code",
      "execution_count": null,
      "metadata": {
        "id": "pa-TVUb8Enm6"
      },
      "outputs": [],
      "source": [
        "from datasets import load_dataset\n",
        "from transformers import AutoTokenizer, AutoModelForSequenceClassification\n",
        "from transformers import Trainer, TrainingArguments"
      ]
    },
    {
      "cell_type": "code",
      "execution_count": null,
      "metadata": {
        "id": "YaWV4atDIVlH"
      },
      "outputs": [],
      "source": [
        "# Load dataset subsets\n",
        "train_dataset = load_dataset(\"imdb\", split=\"train[:100]\")\n",
        "test_dataset = load_dataset(\"imdb\", split=\"test[:100]\")"
      ]
    },
    {
      "cell_type": "code",
      "execution_count": null,
      "metadata": {
        "id": "nXEVjs6_ErPO"
      },
      "outputs": [],
      "source": [
        "# Load pretrained model and tokenizer\n",
        "model = AutoModelForSequenceClassification.from_pretrained(\"distilbert-base-uncased\", num_labels=2)\n",
        "tokenizer = AutoTokenizer.from_pretrained(\"distilbert-base-uncased\")"
      ]
    },
    {
      "cell_type": "code",
      "execution_count": null,
      "metadata": {
        "id": "XZ5iZRouEtXl"
      },
      "outputs": [],
      "source": [
        "# Tokenize and format\n",
        "def tokenize(example):\n",
        "    return tokenizer(example[\"text\"], truncation=True, padding=\"max_length\")"
      ]
    },
    {
      "cell_type": "code",
      "execution_count": null,
      "metadata": {
        "id": "VdHTG6-BKtDk"
      },
      "outputs": [],
      "source": [
        "# Tokenize train and test\n",
        "train_encoded = train_dataset.map(tokenize, batched=True)\n",
        "test_encoded = test_dataset.map(tokenize, batched=True)"
      ]
    },
    {
      "cell_type": "code",
      "execution_count": null,
      "metadata": {
        "id": "aEqN-TDwEvq-"
      },
      "outputs": [],
      "source": [
        "# Format for PyTorch\n",
        "train_encoded.set_format(\"torch\", columns=[\"input_ids\", \"attention_mask\", \"label\"])\n",
        "test_encoded.set_format(\"torch\", columns=[\"input_ids\", \"attention_mask\", \"label\"])"
      ]
    },
    {
      "cell_type": "code",
      "execution_count": null,
      "metadata": {
        "id": "gJTrIDB8JSxz"
      },
      "outputs": [],
      "source": [
        "# Define Trainer with metrics\n",
        "args = TrainingArguments(output_dir=\"eval-check\", per_device_eval_batch_size=32,report_to=\"none\")"
      ]
    },
    {
      "cell_type": "code",
      "execution_count": null,
      "metadata": {
        "id": "AKe5MZN4EyAe"
      },
      "outputs": [],
      "source": [
        "trainer = Trainer(model=model, args=args, compute_metrics=compute_metrics)"
      ]
    },
    {
      "cell_type": "code",
      "execution_count": null,
      "metadata": {
        "id": "-ShJpPbfHUgP"
      },
      "outputs": [],
      "source": [
        "metrics = trainer.evaluate(eval_dataset=test_encoded)"
      ]
    },
    {
      "cell_type": "code",
      "execution_count": null,
      "metadata": {
        "id": "mT477BZ3K95w"
      },
      "outputs": [],
      "source": [
        "print(metrics)"
      ]
    },
    {
      "cell_type": "markdown",
      "metadata": {
        "id": "i9IcGK-NL6Yo"
      },
      "source": [
        "## bleu, rouge, perplexity"
      ]
    },
    {
      "cell_type": "code",
      "execution_count": null,
      "metadata": {
        "id": "QILDjsqYRpNR"
      },
      "outputs": [],
      "source": [
        "from evaluate import load\n",
        "\n",
        "bleu = load(\"bleu\")\n",
        "\n",
        "# Model output (machine translation)\n",
        "predictions = [\"The cat is sitting on the mat\"]\n",
        "\n",
        "# Human reference translation\n",
        "references = [[\"The cat sat on the mat\"]]\n",
        "\n",
        "result = bleu.compute(predictions=predictions, references=references)\n",
        "print(\"BLEU Score:\", result)"
      ]
    },
    {
      "cell_type": "markdown",
      "metadata": {
        "id": "QCbenC5DSUPM"
      },
      "source": [
        "| Metric            | Value | Meaning                        |\n",
        "| ----------------- | ----- | ------------------------------ |\n",
        "| `precisions[0]`   | 0.714 | 5/7 unigrams matched           |\n",
        "| `precisions[1]`   | 0.5   | 3/6 bigrams matched            |\n",
        "| `precisions[2]`   | 0.2   | 1/5 trigrams matched           |\n",
        "| `precisions[3]`   | 0.0   | No 4-gram match ⇒ BLEU = 0     |\n",
        "| `brevity_penalty` | 1.0   | No penalty (longer prediction) |\n",
        "| `BLEU`            | 0.0   | Killed by zero 4-gram match    |\n"
      ]
    },
    {
      "cell_type": "markdown",
      "metadata": {
        "id": "wU0_Ojt6St8L"
      },
      "source": [
        "![image.png](data:image/png;base64,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)"
      ]
    },
    {
      "cell_type": "code",
      "execution_count": null,
      "metadata": {
        "id": "TkpS4wQ0SkFV"
      },
      "outputs": [],
      "source": [
        "from evaluate import load\n",
        "\n",
        "bleu = load(\"bleu\")\n",
        "\n",
        "# Model-generated headline (prediction)\n",
        "predictions = [\"Government unveils new climate action plan\"]\n",
        "\n",
        "# Real human-written headline (reference)\n",
        "references = [[\"Government announces new plan to fight climate change\"]]\n",
        "\n",
        "result = bleu.compute(predictions=predictions, references=references)\n",
        "print(\"BLEU Score (Text Gen):\", result)\n"
      ]
    },
    {
      "cell_type": "code",
      "execution_count": null,
      "metadata": {
        "id": "waHVN1-fRtZA"
      },
      "outputs": [],
      "source": [
        "from evaluate import load\n",
        "\n",
        "rouge = load(\"rouge\")\n",
        "\n",
        "# Model-generated summary\n",
        "predicted_summary = [\"Hugging Face develops powerful AI tools.\"]\n",
        "\n",
        "# Ground truth (human-written) summary\n",
        "reference_summary = [\"Hugging Face is a company that builds AI models.\"]\n",
        "\n",
        "result = rouge.compute(predictions=predicted_summary, references=reference_summary)\n",
        "print(\"ROUGE Scores:\", result)\n"
      ]
    },
    {
      "cell_type": "markdown",
      "metadata": {
        "id": "EskxJtvFTRUK"
      },
      "source": [
        "| Metric       | Meaning                    | Score | Why                         |\n",
        "| ------------ | -------------------------- | ----- | --------------------------- |\n",
        "| `ROUGE-1`    | Unigram recall             | 0.4   | 3/9 words matched           |\n",
        "| `ROUGE-2`    | Bigram recall              | 0.15  | Only \"Hugging Face\" matched |\n",
        "| `ROUGE-L`    | Longest Common Subsequence | 0.4   | \"Hugging Face AI\" is LCS    |\n",
        "| `ROUGE-Lsum` | Sentence-level LCS         | 0.4   | Same as above (1 sentence)  |\n"
      ]
    },
    {
      "cell_type": "markdown",
      "metadata": {
        "id": "ACnnpjmaTSYa"
      },
      "source": [
        "| Feature                 | **BLEU (Bilingual Evaluation Understudy)**          | **ROUGE (Recall-Oriented Understudy for Gisting Evaluation)** |\n",
        "| ----------------------- | --------------------------------------------------- | ------------------------------------------------------------- |\n",
        "| **Primary Focus**       | Precision (How much predicted is correct)           | Recall (How much reference is captured)                       |\n",
        "| **N-gram type**         | 1-gram to 4-gram precision                          | 1-gram to 4-gram recall + LCS (ROUGE-L)                       |\n",
        "| **Formula Style**       | \\$BLEU = BP \\times \\exp(\\text{avg log precision})\\$ | \\$ROUGE = \\frac{\\text{overlap}}{\\text{reference length}}\\$    |\n",
        "| **Brevity Penalty**     | Yes — penalizes too-short output                    | No — doesn’t punish short outputs                             |\n",
        "| **Best For**            | Machine Translation, factual generation             | Summarization, content preservation                           |\n",
        "| **Fails When**          | Synonyms used, multiple valid outputs               | Extra irrelevant content is present                           |\n",
        "| **Overlap type**        | Exact n-gram match (no flexibility)                 | Longest sequence, flexible phrasing                           |\n",
        "| **Multiple References** | Supported                                           | Supported                                                     |\n",
        "| **Interpretation**      | Higher BLEU = more precise and fluent output        | Higher ROUGE = more informative and complete output           |\n",
        "| **Used In**             | Machine Translation, chatbot QA, factual generation | Summarization, headline generation                            |\n",
        "| **Metric Values**       | 0 to 1 (or 0 to 100%)                               | 0 to 1 (or 0 to 100%)                                         |\n"
      ]
    },
    {
      "cell_type": "code",
      "execution_count": null,
      "metadata": {
        "id": "mAnowZD3RwHR"
      },
      "outputs": [],
      "source": [
        "from evaluate import load\n",
        "\n",
        "perplexity = load(\"perplexity\")\n",
        "\n",
        "# Sentence generated by your language model\n",
        "predictions = [\"The government announced a new climate policy today.\"]\n",
        "\n",
        "# Evaluate how fluent/confident GPT2 is on this sentence\n",
        "result = perplexity.compute(predictions=predictions, model_id=\"gpt2\")\n",
        "print(\"Perplexity:\", result)\n"
      ]
    },
    {
      "cell_type": "markdown",
      "metadata": {
        "id": "geGKEOaJT3di"
      },
      "source": [
        "| Aspect         | Value                                                                                 |\n",
        "| -------------- | ------------------------------------------------------------------------------------- |\n",
        "| Sentence       | `\"The government announced a new climate policy today.\"`                              |\n",
        "| Model          | `gpt2` (English LM)                                                                   |\n",
        "| Perplexity     | **42.04**                                                                             |\n",
        "| Interpretation | GPT-2 is **moderately unsure** about this sentence — it's not fluent but not terrible |\n",
        "| Ideal Value    | Lower = Better (e.g., <30 = fluent, >100 = confused model)                            |\n"
      ]
    },
    {
      "cell_type": "markdown",
      "metadata": {
        "id": "CuUFUA_JT4YF"
      },
      "source": [
        "What Does 42.04 Mean?\n",
        "GPT-2 thinks this sentence is somewhat unnatural or less expected.\n",
        "\n",
        "A perplexity score of 42 is not terrible, but not fluent-level either.\n",
        "\n",
        "Ideally, for fluent, natural English:\n",
        "\n",
        "Good = 10–30\n",
        "\n",
        "Acceptable = 30–50\n",
        "\n",
        "Bad = > 100 (very low confidence)"
      ]
    },
    {
      "cell_type": "code",
      "execution_count": null,
      "metadata": {
        "id": "oxsCYFhjOS1C"
      },
      "outputs": [],
      "source": [
        "import evaluate\n",
        "from evaluate.visualization import radar_plot\n",
        "\n",
        "data = [\n",
        "    {\"accuracy\": 0.9, \"precision\": 0.8, \"f1\": 0.85},\n",
        "    {\"accuracy\": 0.85, \"precision\": 0.75, \"f1\": 0.8}\n",
        "]\n",
        "model_names = [\"Model A\", \"Model B\"]\n",
        "plot = radar_plot(data=data, model_names=model_names)\n",
        "plot.show()"
      ]
    },
    {
      "cell_type": "markdown",
      "metadata": {
        "id": "V5EXX0RxObqH"
      },
      "source": [
        "## Huggingface_hub"
      ]
    },
    {
      "cell_type": "code",
      "execution_count": null,
      "metadata": {
        "id": "giV1i4IRRru2"
      },
      "outputs": [],
      "source": [
        "!pip install --upgrade \"huggingface_hub>=0.33.1\""
      ]
    },
    {
      "cell_type": "code",
      "execution_count": null,
      "metadata": {
        "id": "tm4ZGdWcUfdb"
      },
      "outputs": [],
      "source": [
        "from huggingface_hub import HfApi\n",
        "api = HfApi()"
      ]
    },
    {
      "cell_type": "code",
      "execution_count": null,
      "metadata": {
        "id": "7Pf6Wov7UhLA"
      },
      "outputs": [],
      "source": [
        "# Get model info without downloading it\n",
        "model_info = api.model_info(repo_id=\"bert-base-uncased\")"
      ]
    },
    {
      "cell_type": "code",
      "execution_count": null,
      "metadata": {
        "id": "Pfynwq-1OdHA"
      },
      "outputs": [],
      "source": [
        "print(\"Model Card Metadata:\", model_info.card_data)\n",
        "print(\"Tags:\", model_info.tags)\n",
        "print(\"Commit SHA:\", model_info.sha)\n",
        "print(\"Last Modified:\", model_info.last_modified)\n",
        "print(\"Files:\", [f.rfilename for f in model_info.siblings])\n",
        "print(\"Model ID:\", model_info.card_data.get('modelId', 'Not available'))\n",
        "print(\"Likes:\", model_info.likes)\n",
        "print(\"Author/Namespace:\", model_info.author)\n",
        "print(\"Is Private:\", model_info.private)\n",
        "print(\"Downloads:\", model_info.downloads)"
      ]
    },
    {
      "cell_type": "code",
      "execution_count": null,
      "metadata": {
        "id": "ZfkO4On_UlEF"
      },
      "outputs": [],
      "source": [
        "models = api.list_models(search=\"emotion\", sort=\"downloads\", limit=5)"
      ]
    },
    {
      "cell_type": "code",
      "execution_count": null,
      "metadata": {
        "id": "PYMl-TT_OgF9"
      },
      "outputs": [],
      "source": [
        "for model in models:\n",
        "    print(model.modelId, \"-\", model.downloads)"
      ]
    },
    {
      "cell_type": "code",
      "execution_count": null,
      "metadata": {
        "id": "AeUE-THvVLzp"
      },
      "outputs": [],
      "source": [
        "models = api.list_models(filter=\"text-generation\", sort=\"downloads\", limit=10)"
      ]
    },
    {
      "cell_type": "code",
      "execution_count": null,
      "metadata": {
        "id": "6OzN5t--VJY-"
      },
      "outputs": [],
      "source": [
        "for m in models:\n",
        "    print(m.modelId, \"-\", m.downloads)"
      ]
    },
    {
      "cell_type": "code",
      "execution_count": null,
      "metadata": {
        "id": "7aLf0A0oUpJa"
      },
      "outputs": [],
      "source": [
        "from huggingface_hub import list_repo_files"
      ]
    },
    {
      "cell_type": "code",
      "execution_count": null,
      "metadata": {
        "id": "rtxLvZVMOhQQ"
      },
      "outputs": [],
      "source": [
        "files = list_repo_files(\"google/flan-t5-base\")\n",
        "print(files)"
      ]
    },
    {
      "cell_type": "code",
      "execution_count": null,
      "metadata": {
        "id": "EfKOL9WlViqA"
      },
      "outputs": [],
      "source": [
        "dataset = api.dataset_info(\"imdb\")"
      ]
    },
    {
      "cell_type": "code",
      "execution_count": null,
      "metadata": {
        "id": "WcqfYe-oOtK-"
      },
      "outputs": [],
      "source": [
        "print(\"Description:\", dataset.cardData.get(\"summary\", \"No summary\"))\n",
        "print(\"Files:\", [f.rfilename for f in dataset.siblings])"
      ]
    },
    {
      "cell_type": "code",
      "execution_count": null,
      "metadata": {
        "id": "85qnjXVAc0KV"
      },
      "outputs": [],
      "source": [
        "from huggingface_hub import hf_hub_download\n",
        "import json\n",
        "# Download config.json\n",
        "config_path = hf_hub_download(repo_id=\"bert-base-uncased\", filename=\"config.json\")\n",
        "with open(config_path) as f:\n",
        "    config = json.load(f)\n",
        "print(\"Hidden size:\", config[\"hidden_size\"])"
      ]
    },
    {
      "cell_type": "code",
      "execution_count": null,
      "metadata": {
        "id": "oVrZlg-BbVTu"
      },
      "outputs": [],
      "source": [
        "from huggingface_hub import InferenceClient\n",
        "\n",
        "# Use the correct hosted model ID with repository owner prefix\n",
        "client = InferenceClient(model=\"distilbert/distilbert-base-uncased-finetuned-sst-2-english\")\n",
        "\n",
        "response = client.text_classification(\"I love Hugging Face! \")\n",
        "print(response)"
      ]
    },
    {
      "cell_type": "code",
      "execution_count": null,
      "metadata": {
        "id": "vGM3B8K0cHjY"
      },
      "outputs": [],
      "source": [
        "info = api.model_info(\"distilbert/distilbert-base-uncased-finetuned-sst-2-english\")\n",
        "print(\"Pipeline tag:\", info.pipeline_tag)"
      ]
    },
    {
      "cell_type": "code",
      "execution_count": null,
      "metadata": {
        "id": "Y3BaR1gjeaTe"
      },
      "outputs": [],
      "source": [
        "from huggingface_hub import HfApi\n",
        "\n",
        "api = HfApi()\n",
        "# Search text generation models with hosted inference support\n",
        "models = api.list_models(filter=\"text-generation\", limit=20)\n",
        "print(\"Sample models with inference support:\")\n",
        "for m in models:\n",
        "    if m.pipeline_tag == \"text-generation\":\n",
        "        print(\"-\", m.modelId)"
      ]
    },
    {
      "cell_type": "code",
      "execution_count": null,
      "metadata": {
        "id": "vhIARQ8UUPBw"
      },
      "outputs": [],
      "source": [
        "from huggingface_hub import HfApi\n",
        "\n",
        "api = HfApi()\n",
        "\n",
        "# Pull only \"warm\" text-generation models served by HF-Inference, max 25 results\n",
        "gen = api.list_models(\n",
        "        inference_provider=\"hf-inference\",\n",
        "        pipeline_tag=\"text-generation\",\n",
        "        limit=25)\n",
        "\n",
        "models = list(gen)\n",
        "print(f\"Found {len(models)} models\")"
      ]
    },
    {
      "cell_type": "code",
      "execution_count": null,
      "metadata": {
        "id": "hNZTktiWUSaQ"
      },
      "outputs": [],
      "source": [
        "models"
      ]
    },
    {
      "cell_type": "code",
      "execution_count": null,
      "metadata": {
        "id": "RXRu6X2USeNp"
      },
      "outputs": [],
      "source": [
        "for model_name in models:\n",
        "      print(model_name.modelId)\n"
      ]
    },
    {
      "cell_type": "code",
      "execution_count": null,
      "metadata": {
        "id": "qzAQJBtNSnJD"
      },
      "outputs": [],
      "source": [
        "from huggingface_hub import InferenceClient\n",
        "\n",
        "model_id = models[0].modelId\n",
        "client = InferenceClient(model=\"meta-llama/Llama-3.1-8B-Instruct\", provider=\"hf-inference\")\n",
        "\n",
        "out = client.text_generation(\n",
        "        prompt=\"I saw a puppy, a cat and a raccoon during my bike ride in the park.\",\n",
        "        max_new_tokens=80,\n",
        "        temperature=0.7)\n",
        "print(out)\n"
      ]
    },
    {
      "cell_type": "markdown",
      "metadata": {
        "id": "MJEev8LOOucU"
      },
      "source": [
        "## Huggingface with Langchain"
      ]
    },
    {
      "cell_type": "markdown",
      "metadata": {
        "id": "Ya9j0zjOKFBJ"
      },
      "source": [
        "https://python.langchain.com/docs/integrations/providers/huggingface/"
      ]
    },
    {
      "cell_type": "code",
      "execution_count": null,
      "metadata": {
        "id": "eOMOdTRUOyAQ"
      },
      "outputs": [],
      "source": [
        "!pip install accelerate\n",
        "!pip install  bitsandbytes\n",
        "# !pip install huggingface_hub"
      ]
    },
    {
      "cell_type": "code",
      "execution_count": null,
      "metadata": {
        "id": "NnpNOEFEh1UD"
      },
      "outputs": [],
      "source": [
        "!pip install langchain-huggingface\n",
        "!pip install langchain_community"
      ]
    },
    {
      "cell_type": "code",
      "execution_count": null,
      "metadata": {
        "id": "kAa3yrbrJcl_"
      },
      "outputs": [],
      "source": [
        "from langchain_huggingface import ChatHuggingFace"
      ]
    },
    {
      "cell_type": "code",
      "execution_count": null,
      "metadata": {
        "id": "KDiUXPVPJfSZ"
      },
      "outputs": [],
      "source": [
        "from langchain_huggingface import HuggingFaceEndpoint"
      ]
    },
    {
      "cell_type": "code",
      "execution_count": null,
      "metadata": {
        "id": "3mD-y9OsKnEi"
      },
      "outputs": [],
      "source": [
        "llm = HuggingFaceEndpoint(\n",
        "    repo_id=\"deepseek-ai/DeepSeek-R1\",\n",
        "    task=\"text-generation\",\n",
        "    max_new_tokens=512,\n",
        "    do_sample=False,\n",
        "    repetition_penalty=1.03,\n",
        ")"
      ]
    },
    {
      "cell_type": "code",
      "execution_count": null,
      "metadata": {
        "id": "qSwl_ojVKja1"
      },
      "outputs": [],
      "source": [
        "chat_model = ChatHuggingFace(llm=llm)"
      ]
    },
    {
      "cell_type": "code",
      "execution_count": null,
      "metadata": {
        "id": "dIwK2jIQK_Pe"
      },
      "outputs": [],
      "source": [
        "chat_model.invoke(\"hello how are you?\")"
      ]
    },
    {
      "cell_type": "code",
      "execution_count": null,
      "metadata": {
        "id": "_sIifS3RLJnp"
      },
      "outputs": [],
      "source": [
        "from langchain.prompts import PromptTemplate\n",
        "from langchain_core.output_parsers import StrOutputParser\n",
        "from langchain_core.runnables import RunnablePassthrough\n",
        "\n",
        "template=\"\"\"Question: {question}\n",
        "give me a answer in detail manner and in step by step manner\"\"\"\n",
        "\n",
        "prompt=PromptTemplate(template=template,input_variables=[\"question\"])"
      ]
    },
    {
      "cell_type": "code",
      "execution_count": null,
      "metadata": {
        "id": "ItYPCpeoPSnI"
      },
      "outputs": [],
      "source": [
        "llm_chain = (\n",
        "        {\"question\": RunnablePassthrough()}\n",
        "        | prompt\n",
        "        | chat_model\n",
        "        | StrOutputParser()\n",
        "    )"
      ]
    },
    {
      "cell_type": "code",
      "execution_count": null,
      "metadata": {
        "id": "4QxlSKbZLSrz"
      },
      "outputs": [],
      "source": [
        "question=\"who is a first president of INDIA?\""
      ]
    },
    {
      "cell_type": "code",
      "execution_count": null,
      "metadata": {
        "id": "N2mm2zsSPiRu"
      },
      "outputs": [],
      "source": [
        "llm_chain.invoke({\"question\":question})"
      ]
    },
    {
      "cell_type": "code",
      "execution_count": null,
      "metadata": {
        "id": "EQa9NDemJhp5"
      },
      "outputs": [],
      "source": [
        "from langchain_huggingface import HuggingFacePipeline\n",
        "from langchain_huggingface import ChatHuggingFace"
      ]
    },
    {
      "cell_type": "code",
      "execution_count": null,
      "metadata": {
        "id": "mQIx53R_VjN_"
      },
      "outputs": [],
      "source": [
        "llm = HuggingFacePipeline.from_model_id(\n",
        "    model_id=\"HuggingFaceH4/zephyr-7b-beta\",\n",
        "    task=\"text-generation\",\n",
        "    pipeline_kwargs=dict(\n",
        "        max_new_tokens=512,\n",
        "        do_sample=False,\n",
        "        repetition_penalty=1.03,\n",
        "    ),\n",
        ")"
      ]
    },
    {
      "cell_type": "code",
      "execution_count": null,
      "metadata": {
        "id": "R44fYZKZV45L"
      },
      "outputs": [],
      "source": [
        "from transformers import BitsAndBytesConfig\n",
        "\n",
        "quantization_config = BitsAndBytesConfig(\n",
        "    load_in_4bit=True,\n",
        "    bnb_4bit_quant_type=\"nf4\",\n",
        "    bnb_4bit_compute_dtype=\"float16\",\n",
        "    bnb_4bit_use_double_quant=True,\n",
        ")"
      ]
    },
    {
      "cell_type": "code",
      "execution_count": null,
      "metadata": {
        "id": "7RvZ3DtWV9zR"
      },
      "outputs": [],
      "source": [
        "llm = HuggingFacePipeline.from_model_id(\n",
        "    model_id=\"HuggingFaceH4/zephyr-7b-beta\",\n",
        "    task=\"text-generation\",\n",
        "    pipeline_kwargs=dict(\n",
        "        max_new_tokens=512,\n",
        "        do_sample=False,\n",
        "        repetition_penalty=1.03,\n",
        "        return_full_text=False,\n",
        "    ),\n",
        "    model_kwargs={\"quantization_config\": quantization_config},\n",
        ")"
      ]
    },
    {
      "cell_type": "code",
      "execution_count": null,
      "metadata": {
        "id": "aLmQoiOLWCvl"
      },
      "outputs": [],
      "source": [
        "chat_model = ChatHuggingFace(llm=llm)"
      ]
    },
    {
      "cell_type": "code",
      "execution_count": null,
      "metadata": {
        "id": "5M6a9yuEWvt9"
      },
      "outputs": [],
      "source": [
        "from langchain.prompts import PromptTemplate\n",
        "from langchain_core.output_parsers import StrOutputParser\n",
        "from langchain_core.runnables import RunnablePassthrough\n",
        "\n",
        "template=\"\"\"Question: {question}\n",
        "give me a answer in detail manner and in step by step manner\"\"\"\n",
        "\n",
        "prompt=PromptTemplate(template=template,input_variables=[\"question\"])"
      ]
    },
    {
      "cell_type": "code",
      "execution_count": null,
      "metadata": {
        "id": "QJppH7LPW0D5"
      },
      "outputs": [],
      "source": [
        "llm_chain = (\n",
        "        {\"question\": RunnablePassthrough()}\n",
        "        | prompt\n",
        "        | chat_model\n",
        "        | StrOutputParser()\n",
        "    )"
      ]
    },
    {
      "cell_type": "code",
      "execution_count": null,
      "metadata": {
        "id": "Gh5yd9PuW3zU"
      },
      "outputs": [],
      "source": [
        "question=\"who is a first president of INDIA?\""
      ]
    },
    {
      "cell_type": "code",
      "execution_count": null,
      "metadata": {
        "id": "3sk-tRnvW-ES"
      },
      "outputs": [],
      "source": [
        "llm_chain.invoke({\"question\":question})"
      ]
    },
    {
      "cell_type": "code",
      "execution_count": null,
      "metadata": {
        "id": "oAupvKOxJjY0"
      },
      "outputs": [],
      "source": [
        "# from langchain_huggingface import HuggingFaceEmbeddings\n",
        "# from langchain_huggingface import HuggingFaceEndpointEmbeddings\n",
        "# from langchain_community.document_loaders.hugging_face_dataset import HuggingFaceDatasetLoader"
      ]
    },
    {
      "cell_type": "markdown",
      "metadata": {
        "id": "sd-E0yl1ZyAP"
      },
      "source": [
        "# ARCHIVE"
      ]
    },
    {
      "cell_type": "code",
      "execution_count": null,
      "metadata": {
        "id": "vurf7oUUFWpW"
      },
      "outputs": [],
      "source": [
        "# !pip install --upgrade datasets fsspec\n",
        "\n",
        "# from datasets import load_dataset\n",
        "# import shutil\n",
        "# shutil.rmtree(\"/root/.cache/huggingface/datasets\", ignore_errors=True)\n",
        "# dataset = load_dataset(\"wikitext\", \"wikitext-2-raw-v1\")\n",
        "\n",
        "# # dataset = load_dataset(\"wikitext\", \"wikitext-2-raw-v1\", download_mode=\"force_redownload\")\n",
        "\n",
        "# # Combine train/test into single list of strings\n",
        "# def get_text(examples):\n",
        "#     return {'text': examples['text']}\n",
        "\n",
        "# dataset = dataset.map(get_text, batched=True)\n",
        "\n",
        "# def tokenize_fn(example):\n",
        "#     return hf_tokenizer(example[\"text\"], truncation=True, padding=\"max_length\", max_length=128)\n",
        "\n",
        "# tokenized_dataset = dataset.map(tokenize_fn, batched=True, remove_columns=[\"text\"])\n",
        "\n",
        "# print(\"Model vocab size:\", model.config.vocab_size)\n",
        "# print(\"Tokenizer vocab size:\", hf_tokenizer.vocab_size)\n",
        "# print(\"Special tokens:\", hf_tokenizer.all_special_tokens)\n",
        "# print(\"Tokenizer vocab size:\", len(hf_tokenizer))\n",
        "# print(\"Max token id in dataset:\", max(tokenized_dataset[\"train\"][0][\"input_ids\"]))\n",
        "\n",
        "# from transformers import GPT2Config, GPT2LMHeadModel, Trainer, TrainingArguments, DataCollatorForLanguageModeling\n",
        "\n",
        "# config = GPT2Config(\n",
        "#     vocab_size=hf_tokenizer.vocab_size,\n",
        "#     n_positions=128,\n",
        "#     n_ctx=128,\n",
        "#     n_embd=256,\n",
        "#     n_layer=4,\n",
        "#     n_head=4\n",
        "# )\n",
        "\n",
        "# model = GPT2LMHeadModel(config)\n",
        "# model.resize_token_embeddings(len(hf_tokenizer))\n",
        "\n",
        "# # Training setup\n",
        "# training_args = TrainingArguments(\n",
        "#     output_dir=\"./gpt2-custom\",\n",
        "#     per_device_train_batch_size=8,\n",
        "#     num_train_epochs=3,\n",
        "#     logging_steps=10,\n",
        "#     save_steps=100,\n",
        "#     save_total_limit=2,\n",
        "#     prediction_loss_only=True,\n",
        "#     remove_unused_columns=False,\n",
        "#      report_to=\"none\"\n",
        "# )\n",
        "\n",
        "# data_collator = DataCollatorForLanguageModeling(tokenizer=hf_tokenizer, mlm=False)\n",
        "\n",
        "# trainer = Trainer(\n",
        "#     model=model,\n",
        "#     args=training_args,\n",
        "#     train_dataset=tokenized_dataset[\"train\"],\n",
        "#     data_collator=data_collator,\n",
        "# )\n",
        "\n",
        "# trainer.train()\n",
        "\n",
        "\n",
        "\n",
        "\n",
        "\n",
        "# text_gen = pipeline(\"text-generation\")\n",
        "# print(text_gen(\"Once upon a time in a forest,\", max_length=30))\n",
        "\n",
        "# from transformers import pipeline\n",
        "\n",
        "# t5 = pipeline(\"text2text-generation\", model=\"t5-small\")\n",
        "\n",
        "# print(\"Summarize:\\n\", t5(\"summarize: Hugging Face provides free tools to explore NLP. They make ML super accessible!\", max_length=20))\n",
        "\n",
        "# print(\"Translate English to German:\\n\", t5(\"translate English to German: The book is on the table.\", max_length=20))\n",
        "\n",
        "# print(\"Question Answering:\\n\", t5(\"question: Where is the book?  context: The book is on the table.\", max_length=20))\n",
        "\n",
        "# fill_mask = pipeline(\"fill-mask\")\n",
        "# print(fill_mask(\"Hugging Face is the <mask> company.\"))"
      ]
    },
    {
      "cell_type": "code",
      "execution_count": null,
      "metadata": {
        "id": "Ee-Ph4unLz7s"
      },
      "outputs": [],
      "source": [
        "# from datasets import load_dataset\n",
        "# from evaluate import load\n",
        "# from transformers import pipeline\n",
        "\n",
        "# # Load pretrained paraphrase pipeline\n",
        "# pipe = pipeline(\"text-classification\", model=\"textattack/bert-base-uncased-MRPC\")\n",
        "# dataset = load_dataset(\"glue\", \"mrpc\", split=\"validation[:50]\")\n",
        "\n",
        "# predictions = [int(pipe(f\"{row['sentence1']} {row['sentence2']}\")[0]['label'].split('_')[-1]) for row in dataset]\n",
        "# accuracy = load(\"accuracy\")\n",
        "# print(accuracy.compute(predictions=predictions, references=dataset[\"label\"]))"
      ]
    },
    {
      "cell_type": "code",
      "execution_count": null,
      "metadata": {
        "id": "7gc9Iol76GBy"
      },
      "outputs": [],
      "source": [
        "# from transformers import AutoTokenizer, AutoModelForMaskedLM\n",
        "# import torch\n",
        "\n",
        "# bert_tok = AutoTokenizer.from_pretrained(\"bert-base-uncased\")\n",
        "# bert_model = AutoModelForMaskedLM.from_pretrained(\"bert-base-uncased\")\n",
        "\n",
        "# # Use [MASK] instead of <mask> for BERT\n",
        "# sentence = \"Transformers are [MASK] models.\"\n",
        "# bert_inputs = bert_tok(sentence, return_tensors=\"pt\")\n",
        "\n",
        "# with torch.no_grad():\n",
        "#     bert_output = bert_model(**bert_inputs)\n",
        "\n",
        "# # Get index of [MASK] token\n",
        "# mask_token_index = (bert_inputs[\"input_ids\"] == bert_tok.mask_token_id).nonzero(as_tuple=True)[1].item()\n",
        "\n",
        "# # Get top prediction for [MASK]\n",
        "# mask_logits = bert_output.logits[0, mask_token_index]\n",
        "# top_token_id = torch.argmax(mask_logits).item()\n",
        "# predicted_token = bert_tok.decode([top_token_id])\n",
        "\n",
        "# print(\"BERT predicted word:\", predicted_token)"
      ]
    },
    {
      "cell_type": "code",
      "execution_count": null,
      "metadata": {
        "id": "vPuGjrK69SqP"
      },
      "outputs": [],
      "source": [
        "# summarizer = pipeline(\"summarization\", model=\"t5-small\")\n",
        "# text = \"Transformers are a powerful architecture used in natural language processing. They rely on self-attention to capture relationships between words.\"\n",
        "# summary = summarizer(\"summarize: \" + text, max_length=30)\n",
        "# print(summary)"
      ]
    }
  ],
  "metadata": {
    "accelerator": "GPU",
    "colab": {
      "gpuType": "T4",
      "provenance": []
    },
    "kernelspec": {
      "display_name": "Python 3",
      "name": "python3"
    },
    "language_info": {
      "name": "python"
    }
  },
  "nbformat": 4,
  "nbformat_minor": 0
}